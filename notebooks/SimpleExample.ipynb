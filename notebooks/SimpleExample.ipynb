{
 "cells": [
  {
   "cell_type": "markdown",
   "metadata": {},
   "source": [
    "### Simple example\n",
    "This code shows as simple way to:\n",
    "- Read in a .nc file using xarray\n",
    "- Calculate annual values\n",
    "- Plot global time series\n",
    "- Plot spatial maps"
   ],
   "execution_count": null,
   "outputs": []
  },
  {
   "cell_type": "code",
   "execution_count": null,
   "metadata": {},
   "outputs": [],
   "source": [
    "import numpy as np\n",
    "import pandas as pd\n",
    "import xarray as xr\n",
    "from netCDF4 import num2date\n",
    "\n",
    "import cartopy\n",
    "import cartopy.crs as ccrs\n",
    "import cf_units as cf\n",
    "import esmlab\n",
    "\n",
    "# some resources for plotting\n",
    "import matplotlib.pyplot as plt\n",
    "from ctsm_py import utils\n",
    "\n",
    "# import hvplot.xarray\n",
    "# import holoviews as hv\n",
    "# hv.extension('bokeh')\n",
    "%matplotlib inline"
   ]
  },
  {
   "cell_type": "code",
   "execution_count": null,
   "metadata": {},
   "outputs": [],
   "source": [
    "## User defined options\n",
    "model = \"CLM5_GSWP3\"\n",
    "var = \"GPP\"\n",
    "suff = \"lnd/proc/tseries/month_1/\"\n",
    "path = (\n",
    "    \"/glade/p/cgd/tss/people/oleson/CLM_LAND_ONLY_RELEASE/CLM5/clm50_r270_1deg_GSWP3V1_iso_newpopd_hist/\"\n",
    "    + suff\n",
    ")\n",
    "file = (\n",
    "    path\n",
    "    + \"clm50_r270_1deg_GSWP3V1_iso_newpopd_hist.clm2.h0.\"\n",
    "    + var\n",
    "    + \".185001-201412.nc\"\n",
    ")\n",
    "file"
   ]
  },
  {
   "cell_type": "markdown",
   "metadata": {},
   "source": [
    "#### Read in your data"
   ],
   "execution_count": null,
   "outputs": []
  },
  {
   "cell_type": "code",
   "execution_count": null,
   "metadata": {},
   "outputs": [],
   "source": [
    "# ?? Wrapping the time_set_mid utility corrects time being read in by xr.open_dataset, other options ??\n",
    "# ?? Would be nice to build a way to read in multiple models here, maybe build on Keith L's Example ??\n",
    "# data sets have lots of coords, variables, and attributes\n",
    "# ds   = xr.open_dataset(file, decode_times=True)\n",
    "ds = utils.time_set_mid(xr.open_dataset(file, decode_times=True), \"time\")\n",
    "print(ds)\n",
    "area = ds.area\n",
    "landfrac = ds.landfrac\n",
    "da = ds[var]  # strips out the extra coords and variables from the dataset\n",
    "dataset = (\n",
    "    da.to_dataset()\n",
    ")  # convert the previously created unnamed DataArray to Dataset with a variable named \"array\""
   ]
  },
  {
   "cell_type": "markdown",
   "metadata": {},
   "source": [
    "#### Make weights for global sum"
   ],
   "execution_count": null,
   "outputs": []
  },
  {
   "cell_type": "code",
   "execution_count": null,
   "metadata": {},
   "outputs": [],
   "source": [
    "# ?? Would be nice to use cfunits  here ??\n",
    "landUp = area * landfrac * 1e6  # area in km2, not m2\n",
    "orig_units = cf.Unit(landUp.attrs[\"units\"])\n",
    "target_units = cf.Unit(\"m^2\")\n",
    "landUp.attrs[\"units\"] = target_units  # rename units\n",
    "area_wgt = landUp / landUp.sum()  # weighting for each grid cell\n",
    "spy = 365 * 24 * 3600  # Convert  to annual fluxes (gC/m2/y), from gc/m2/s"
   ]
  },
  {
   "cell_type": "markdown",
   "metadata": {},
   "source": [
    "#### Convert monthly to annual"
   ],
   "execution_count": null,
   "outputs": []
  },
  {
   "cell_type": "code",
   "execution_count": null,
   "metadata": {},
   "outputs": [],
   "source": [
    "# apply iterates through all variables in a dataset and applies the function to each variable.\n",
    "# ?? Would be nice to do this differently for fluxes & stocks ??\n",
    "mean_dataset = dataset.apply(utils.weighted_annual_mean) * spy\n",
    "mean_dataset.attrs[\"units\"] = \"gC m-2 y-1\"\n",
    "print(mean_dataset)"
   ]
  },
  {
   "cell_type": "markdown",
   "metadata": {},
   "source": [
    "#### Calculate global sums"
   ],
   "execution_count": null,
   "outputs": []
  },
  {
   "cell_type": "code",
   "execution_count": null,
   "metadata": {},
   "outputs": [],
   "source": [
    "# ?? This could also be done regionally (see Paul's comments on google doc) ??\n",
    "mean_wgt = mean_dataset * landUp\n",
    "ann_glob = mean_wgt.sum(dim=(\"lat\", \"lon\")) * 1e-15  # convert to Pg/y\n",
    "ann_glob.attrs[\"units\"] = \"Pg C y^-1\"\n",
    "print(ann_glob)"
   ]
  },
  {
   "cell_type": "markdown",
   "metadata": {},
   "source": [
    "-----------------------------\n",
    "### Make a line plot"
   ],
   "execution_count": null,
   "outputs": []
  },
  {
   "cell_type": "code",
   "execution_count": null,
   "metadata": {},
   "outputs": [],
   "source": [
    "# quick plot , the `;` on the last line supresses text after executing the cell\n",
    "plt.plot(ann_glob.coords[\"time.year\"], ann_glob[var], \"-\")"
   ]
  },
  {
   "cell_type": "code",
   "execution_count": null,
   "metadata": {},
   "outputs": [],
   "source": [
    "# Create a nicer figure\n",
    "fig = plt.figure(figsize=(10, 6))\n",
    "\n",
    "# Ask, out of a 1x1 grid, the first axes.\n",
    "ax = fig.add_subplot(1, 1, 1)\n",
    "\n",
    "# Plot times as x-variable and temperatures as y-variable\n",
    "ax.plot(ann_glob.coords[\"time.year\"], ann_glob[var], label=model)\n",
    "# Add some labels to the plot\n",
    "ax.set_xlabel(\"Time\")\n",
    "ax.set_ylabel(var + \" (\" + ann_glob.attrs[\"units\"] + \")\")\n",
    "ax.set_title(var, fontdict={\"size\": 16})\n",
    "ax.legend(loc=\"upper left\")"
   ]
  },
  {
   "cell_type": "markdown",
   "metadata": {},
   "source": [
    "------------------------\n",
    "### Now make a map!"
   ],
   "execution_count": null,
   "outputs": []
  },
  {
   "cell_type": "code",
   "execution_count": null,
   "metadata": {},
   "outputs": [],
   "source": [
    "# making a data array, because cyclic_dataarray currently set up that way\n",
    "x1 = mean_dataset.isel(time=slice(0, 10)).mean(\"time\")[\n",
    "    var\n",
    "]  # Climatology for first 10 years of data\n",
    "x = mean_dataset.isel(time=slice(-10, None)).mean(\"time\")[\n",
    "    var\n",
    "]  # Climatology for last 10 years of data\n",
    "xdiff = x - x1\n",
    "\n",
    "xinit = x1 * landUp\n",
    "xfin = x * landUp\n",
    "xdelta = xdiff * landUp\n",
    "\n",
    "glob_init = xinit.sum(dim=(\"lat\", \"lon\")) * 1e-15  # convert to Pg/y\n",
    "glob_fin = xfin.sum(dim=(\"lat\", \"lon\")) * 1e-15  # convert to Pg/y\n",
    "glob_change = xdelta.sum(dim=(\"lat\", \"lon\")) * 1e-15  # convert to Pg/y\n",
    "print(glob_init, glob_fin, glob_change)\n",
    "\n",
    "# Then add cyclic point, ?? is there a better way to do this ??\n",
    "x1 = utils.cyclic_dataarray(x1)\n",
    "x = utils.cyclic_dataarray(x)\n",
    "xdiff = utils.cyclic_dataarray(xdiff)\n",
    "lat = x.coords[\"lat\"]\n",
    "lon = x.coords[\"lon\"]"
   ]
  },
  {
   "cell_type": "code",
   "execution_count": null,
   "metadata": {},
   "outputs": [],
   "source": [
    "import cartopy.feature as cfeature\n",
    "import matplotlib.colors as colors\n",
    "\n",
    "norm = colors.Normalize(vmin=0.0, vmax=3.5e3)\n",
    "norm(x.mean())\n",
    "\n",
    "# modified from https://unidata.github.io/MetPy/latest/examples/Four_Panel_Map.html\n",
    "crs = ccrs.Robinson()  # central_longitude=305.0)\n",
    "\n",
    "# Function used to create the map subplots\n",
    "def plot_background(ax):\n",
    "    ax.set_global()\n",
    "    ax.coastlines()\n",
    "    # ax.add_feature(cfeature.COASTLINE.with_scale('50m'), linewidth=0.5)\n",
    "    return ax\n",
    "\n",
    "\n",
    "levels = np.linspace(0, 3500, 11)\n",
    "fig = plt.figure(figsize=(5, 3.5), constrained_layout=True)\n",
    "fig, axarr = plt.subplots(\n",
    "    nrows=2,\n",
    "    ncols=1,\n",
    "    figsize=(10, 6),\n",
    "    constrained_layout=True,\n",
    "    subplot_kw={\"projection\": crs},\n",
    ")\n",
    "\n",
    "axlist = axarr.flatten()\n",
    "for ax in axlist:\n",
    "    plot_background(ax)\n",
    "    ax.set_extent([-155, 60, -25, 60])  # I really don't understand how this works??\n",
    "#    ax.set_extent([-150, 60, -25, 60])\n",
    "\n",
    "\n",
    "# upper plot\n",
    "cf0 = axlist[0].contourf(\n",
    "    lon,\n",
    "    lat,\n",
    "    x1,\n",
    "    levels=levels,\n",
    "    norm=norm,\n",
    "    cmap=\"gist_earth_r\",\n",
    "    transform=ccrs.PlateCarree(),\n",
    ")\n",
    "axlist[0].set_title(\"Initial \" + model + \" \" + var, fontsize=18)\n",
    "axlist[0].set_axis_off()\n",
    "\n",
    "# lower plot\n",
    "cf1 = axlist[1].contourf(\n",
    "    lon,\n",
    "    lat,\n",
    "    x,\n",
    "    levels=levels,\n",
    "    norm=norm,\n",
    "    cmap=\"gist_earth_r\",\n",
    "    transform=ccrs.PlateCarree(),\n",
    ")\n",
    "axlist[1].set_title(\"Final \" + model + \" \" + var, fontsize=18)\n",
    "axlist[1].set_axis_off()\n",
    "\n",
    "# add common colorbar\n",
    "cbar = fig.colorbar(\n",
    "    cf1, ax=axlist.ravel().tolist(), orientation=\"vertical\", shrink=0.80, pad=0\n",
    ")\n",
    "# cbar.set_label('gC/m2/y', size=18, orientation='horizontal')\n",
    "cbar.ax.tick_params(labelsize=16)\n",
    "ax = cbar.ax\n",
    "ax.text(0.2, -0.1, mean_dataset.attrs[\"units\"], size=16, rotation=0)\n",
    "plt.show()"
   ]
  },
  {
   "cell_type": "code",
   "execution_count": null,
   "metadata": {},
   "outputs": [],
   "source": [
    "# Now make a difference map\n",
    "norm = colors.Normalize(vmin=-1000.0, vmax=1000.0)\n",
    "norm(xdiff.mean())\n",
    "levels = np.linspace(-1e3, 1e3, 11)\n",
    "\n",
    "ax = plt.axes(projection=ccrs.Robinson())\n",
    "ax.set_global()\n",
    "ax.coastlines()\n",
    "ax.set_extent([-155, 60, -25, 60])  # I really don't understand how this works??\n",
    "\n",
    "cs = ax.contourf(\n",
    "    lon, lat, xdiff, levels=levels, norm=norm, cmap=\"BrBG\", transform=ccrs.PlateCarree()\n",
    ")\n",
    "\n",
    "# add colorbar.\n",
    "cbar = plt.colorbar(cs, orientation=\"horizontal\")\n",
    "cbar.set_label(\"gC/m2/y\")\n",
    "\n",
    "ax.set_title(var + \" change\")\n",
    "plt.show()"
   ]
  }
 ],
 "metadata": {
  "kernelspec": {
   "display_name": "Python (conda-ctsm-py)",
   "language": "python",
   "name": "ctsm-py"
  },
  "language_info": {
   "codemirror_mode": {
    "name": "ipython",
    "version": 3
   },
   "file_extension": ".py",
   "mimetype": "text/x-python",
   "name": "python",
   "nbconvert_exporter": "python",
   "pygments_lexer": "ipython3",
   "version": "3.7.3"
  }
 },
 "nbformat": 4,
 "nbformat_minor": 4
}
