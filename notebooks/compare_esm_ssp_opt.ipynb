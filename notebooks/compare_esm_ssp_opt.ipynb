{
 "cells": [
  {
   "cell_type": "markdown",
   "metadata": {},
   "source": [
    "## Compare emissions and concentration driven SSP585 simulations"
   ],
   "execution_count": null,
   "outputs": []
  },
  {
   "cell_type": "code",
   "execution_count": null,
   "metadata": {},
   "outputs": [],
   "source": [
    "import warnings\n",
    "\n",
    "import numpy as np\n",
    "import xarray as xr\n",
    "\n",
    "import matplotlib.pyplot as plt\n",
    "\n",
    "warnings.filterwarnings(\"ignore\")  # we should remove this at some point soon :)"
   ]
  },
  {
   "cell_type": "markdown",
   "metadata": {},
   "source": [
    "### Import CMIP6 output"
   ],
   "execution_count": null,
   "outputs": []
  },
  {
   "cell_type": "code",
   "execution_count": null,
   "metadata": {},
   "outputs": [],
   "source": [
    "import intake"
   ]
  },
  {
   "cell_type": "markdown",
   "metadata": {},
   "source": [
    "Here I'm pointing to the catalog on Glade"
   ],
   "execution_count": null,
   "outputs": []
  },
  {
   "cell_type": "code",
   "execution_count": null,
   "metadata": {},
   "outputs": [],
   "source": [
    "catalog = intake.open_esm_datastore(\n",
    "    \"/glade/collections/cmip/catalog/intake-esm-datastore/catalogs/glade-cmip6.json\"\n",
    ")\n",
    "catalog.df.head()"
   ]
  },
  {
   "cell_type": "markdown",
   "metadata": {},
   "source": [
    "Search for the experiments/variables, then futher refine by models (source_id) and ensemble members (member_id)"
   ],
   "execution_count": null,
   "outputs": []
  },
  {
   "cell_type": "code",
   "execution_count": null,
   "metadata": {},
   "outputs": [],
   "source": [
    "test_sr = catalog.search(experiment_id=[\"esm-ssp585\"], variable_id=\"nbp\")"
   ]
  },
  {
   "cell_type": "code",
   "execution_count": null,
   "metadata": {},
   "outputs": [],
   "source": [
    "test_sr.unique(\"source_id\")"
   ]
  },
  {
   "cell_type": "markdown",
   "metadata": {},
   "source": [
    "Looks like the catalog still only has two models (CESM2 and CanESM5) for the esm-ssp858 experiment (as of 1/16/20)"
   ],
   "execution_count": null,
   "outputs": []
  },
  {
   "cell_type": "code",
   "execution_count": null,
   "metadata": {},
   "outputs": [],
   "source": [
    "table_id = \"Lmon\"\n",
    "sr_nbp = catalog.search(\n",
    "    experiment_id=[\"esm-ssp585\", \"ssp585\"],\n",
    "    variable_id=\"nbp\",\n",
    "    source_id=[\"CanESM5\", \"CESM2\"],\n",
    "    table_id=table_id,\n",
    "    member_id=[\"r1i1p1f1\", \"r2i1p1f1\", \"r3i1p1f1\"],\n",
    ")\n",
    "\n",
    "\n",
    "# TODO: work out catalog search logic for determining what source_ids have members in all experiment_ids"
   ]
  },
  {
   "cell_type": "code",
   "execution_count": null,
   "metadata": {},
   "outputs": [],
   "source": [
    "sr_nbp.unique(\"source_id\")[\"source_id\"][\"values\"]"
   ]
  },
  {
   "cell_type": "code",
   "execution_count": null,
   "metadata": {},
   "outputs": [],
   "source": [
    "sr_nbp.unique(\"member_id\")[\"member_id\"][\"values\"]"
   ]
  },
  {
   "cell_type": "code",
   "execution_count": null,
   "metadata": {},
   "outputs": [],
   "source": [
    "sr_nbp.unique(\"grid_label\")"
   ]
  },
  {
   "cell_type": "markdown",
   "metadata": {},
   "source": [
    "### Get the fixed variables output, only available for historical simulations (gridcell area, landfrac)\n",
    "Can subset the models and ensemble members"
   ],
   "execution_count": null,
   "outputs": []
  },
  {
   "cell_type": "code",
   "execution_count": null,
   "metadata": {},
   "outputs": [],
   "source": [
    "sr_fx_ctrl_vars = catalog.search(\n",
    "    table_id=[\"fx\"],\n",
    "    source_id=sr_nbp.unique(\"source_id\")[\"source_id\"][\"values\"],\n",
    "    member_id=sr_nbp.unique(\"member_id\")[\"member_id\"][\"values\"],\n",
    "    experiment_id=\"historical\",\n",
    "    variable_id=[\"areacella\", \"sftlf\"],\n",
    ")"
   ]
  },
  {
   "cell_type": "code",
   "execution_count": null,
   "metadata": {},
   "outputs": [],
   "source": [
    "sr_fx_ctrl_vars.unique(\"grid_label\")"
   ]
  },
  {
   "cell_type": "markdown",
   "metadata": {},
   "source": [
    "### Convert the searchs to dictionaries"
   ],
   "execution_count": null,
   "outputs": []
  },
  {
   "cell_type": "code",
   "execution_count": null,
   "metadata": {},
   "outputs": [],
   "source": [
    "nbp_ds = sr_nbp.to_dataset_dict()"
   ]
  },
  {
   "cell_type": "code",
   "execution_count": null,
   "metadata": {},
   "outputs": [],
   "source": [
    "nbp_ds.keys()"
   ]
  },
  {
   "cell_type": "code",
   "execution_count": null,
   "metadata": {},
   "outputs": [],
   "source": [
    "# get a set of models for later (institution_id.source_id)\n",
    "models = {\".\".join(s.split(\".\")[1:3]) for s in nbp_ds.keys()}\n",
    "models"
   ]
  },
  {
   "cell_type": "code",
   "execution_count": null,
   "metadata": {},
   "outputs": [],
   "source": [
    "fx_ds = sr_fx_ctrl_vars.to_dataset_dict()"
   ]
  },
  {
   "cell_type": "code",
   "execution_count": null,
   "metadata": {},
   "outputs": [],
   "source": [
    "fx_ds.keys()"
   ]
  },
  {
   "cell_type": "markdown",
   "metadata": {},
   "source": [
    "### Weighted annual means"
   ],
   "execution_count": null,
   "outputs": []
  },
  {
   "cell_type": "markdown",
   "metadata": {},
   "source": [
    "Weight by number of days in each month"
   ],
   "execution_count": null,
   "outputs": []
  },
  {
   "cell_type": "code",
   "execution_count": null,
   "metadata": {},
   "outputs": [],
   "source": [
    "def weighted_annual_mean(da):\n",
    "    mon_day = xr.DataArray(\n",
    "        np.array([31, 28, 31, 30, 31, 30, 31, 31, 30, 31, 30, 31]), dims=[\"month\"]\n",
    "    )\n",
    "    mon_wgt = mon_day / mon_day.sum()\n",
    "    return (\n",
    "        da.rolling(time=12, center=False)  # rolling\n",
    "        .construct(\"month\")  # construct the array\n",
    "        .isel(\n",
    "            time=slice(11, None, 12)\n",
    "        )  # slice so that the first element is [1..12], second is [13..24]\n",
    "        .dot(mon_wgt, dims=[\"month\"])\n",
    "    )"
   ]
  },
  {
   "cell_type": "code",
   "execution_count": null,
   "metadata": {},
   "outputs": [],
   "source": [
    "SEC_PER_YEAR = 365 * 24 * 3600"
   ]
  },
  {
   "cell_type": "code",
   "execution_count": null,
   "metadata": {},
   "outputs": [],
   "source": [
    "mon_wgts = np.array([31, 28, 31, 30, 31, 30, 31, 31, 30, 31, 30, 31])"
   ]
  },
  {
   "cell_type": "code",
   "execution_count": null,
   "metadata": {},
   "outputs": [],
   "source": [
    "import esmlab"
   ]
  },
  {
   "cell_type": "code",
   "execution_count": null,
   "metadata": {},
   "outputs": [],
   "source": [
    "test_nbp_amean = (\n",
    "    esmlab.core.resample(\n",
    "        nbp_ds[\"C4MIP.CCCma.CanESM5.esm-ssp585.Lmon.gn\"][\"nbp\"],\n",
    "        freq=\"mon\",\n",
    "        weights=mon_wgts,\n",
    "    )\n",
    "    * SEC_PER_YEAR\n",
    ")"
   ]
  },
  {
   "cell_type": "code",
   "execution_count": null,
   "metadata": {},
   "outputs": [],
   "source": [
    "SEC_PER_YEAR = 365 * 24 * 3600\n",
    "\n",
    "\n",
    "def calc_nbp_timeseries(nbp, grid_info):\n",
    "    \"\"\"\n",
    "    Calculate a timeseries of global Net Biome Production (NBP)\n",
    "    \n",
    "    Parameters\n",
    "    ----------\n",
    "    nbp : xarray.DataArray\n",
    "        Array of NBP data, units 'kg m-2 s-1'\n",
    "    grid_info : xarray.Dataset\n",
    "        Dataset including cell areas (areacella, units m^2) and land fractions (sftlf)\n",
    "    \n",
    "    Returns\n",
    "    -------\n",
    "    ann_glob : xarray.DataArray\n",
    "        Global sum of terrestrial NBP, weighted by grid cell area\n",
    "    \"\"\"\n",
    "\n",
    "    # calculate annual means from monthly mean data\n",
    "    nbp_amean = weighted_annual_mean(nbp) * SEC_PER_YEAR\n",
    "    nbp_amean.attrs[\"units\"] = \"kgC m^-2 y^-1\"\n",
    "\n",
    "    # calculate global sum\n",
    "    landUp = (\n",
    "        grid_info[\"areacella\"] * grid_info[\"sftlf\"] / 100.0\n",
    "    )  # TODO: check that all sftlf are [0, 100], i.e. expressed in %\n",
    "    mean_wgt = nbp_amean * landUp\n",
    "\n",
    "    ann_glob = (\n",
    "        mean_wgt.sum(dim=(\"lat\", \"lon\")) * 1e-12\n",
    "    )  # sum over lat/lon, convert to Pg/y\n",
    "    ann_glob.attrs[\"units\"] = \"Pg C y^-1\"\n",
    "\n",
    "    return ann_glob\n",
    "\n",
    "\n",
    "# here's a quick example of how this function can be called\n",
    "calc_nbp_timeseries(\n",
    "    nbp_ds[\"C4MIP.CCCma.CanESM5.esm-ssp585.Lmon.gn\"][\"nbp\"],\n",
    "    fx_ds[\"CMIP.CCCma.CanESM5.historical.fx.gn\"],\n",
    ")"
   ]
  },
  {
   "cell_type": "code",
   "execution_count": null,
   "metadata": {},
   "outputs": [],
   "source": [
    "def calc_cumulative_timeseries(da):\n",
    "    \"\"\"\n",
    "    Cumulative Timeseries of Net Biome Production (NBP)\n",
    "    \n",
    "    Parameters\n",
    "    ----------\n",
    "    da : xarray.DataArray\n",
    "        Global sum of NBP data, units 'Pg C y^-1'\n",
    "    \n",
    "    Returns\n",
    "    -------\n",
    "    cda : xarray.DataArray\n",
    "        Cumulative timeseries of NBP data, units 'Pg C'\n",
    "    \"\"\"\n",
    "    cda = da.cumsum(dim=\"time\")\n",
    "    cda.attrs[\"units\"] = \"Pg C\"\n",
    "    return cda"
   ]
  },
  {
   "cell_type": "code",
   "execution_count": null,
   "metadata": {},
   "outputs": [],
   "source": [
    "nbp = (\n",
    "    {}\n",
    ")  # we'll put the results from our calc_nbp_timeseries function in this dictionary\n",
    "\n",
    "for mip, scen in [(\"C4MIP\", \"esm-ssp585\"), (\"ScenarioMIP\", \"ssp585\")]:\n",
    "    for mod in models:\n",
    "        ds_key = f\"{mip}.{mod}.{scen}.{table_id}.gn\"\n",
    "        grid_key = f\"CMIP.{mod}.historical.fx.gn\"\n",
    "\n",
    "        out_key = ds_key.replace(\".Lmon.gn\", \"\")\n",
    "\n",
    "        da = nbp_ds[ds_key][\"nbp\"]\n",
    "        grid_info = fx_ds[grid_key]\n",
    "\n",
    "        # QA/QC\n",
    "        if \"CESM\" in ds_key:\n",
    "            da[\"lat\"] = grid_info[\"lat\"]\n",
    "        # TODO: maybe try --> da = da.reindex_like(grid_info, method='nearest')\n",
    "\n",
    "        nbp[out_key] = calc_nbp_timeseries(da, grid_info)"
   ]
  },
  {
   "cell_type": "code",
   "execution_count": null,
   "metadata": {},
   "outputs": [],
   "source": [
    "# calculate the ensemble mean\n",
    "# use resample to align time coordinates\n",
    "ens_mean_nbp = {}\n",
    "for key, da in nbp.items():\n",
    "    mcount = da.sizes[\"member_id\"]  # count of ensemble members\n",
    "    ens_mean_nbp[key + f\" (n={mcount})\"] = (\n",
    "        da.mean(dim=\"member_id\", keep_attrs=True)\n",
    "        .resample(time=\"AS\")\n",
    "        .mean(keep_attrs=True)\n",
    "    )"
   ]
  },
  {
   "cell_type": "code",
   "execution_count": null,
   "metadata": {},
   "outputs": [],
   "source": [
    "# combine all the members into 1 DataArray\n",
    "members = xr.DataArray(list(ens_mean_nbp.keys()), dims=\"members\", name=\"members\")\n",
    "da = xr.concat(ens_mean_nbp.values(), dim=members)"
   ]
  },
  {
   "cell_type": "code",
   "execution_count": null,
   "metadata": {},
   "outputs": [],
   "source": [
    "# fig 1 - using built-in xarray plotting\n",
    "fig = plt.figure(figsize=(12, 8))\n",
    "da.sel(time=slice(\"2015\", \"2100\")).plot.line(x=\"time\")\n",
    "plt.title(\"Projected Changes in Annual Total NBP\", fontdict={\"size\": 16})\n",
    "plt.ylabel(\"NBP\" + \" (\" + da.attrs[\"units\"] + \")\")\n",
    "# TODO: get ride of \"members\" legend title? Or replace with something more meaningful"
   ]
  },
  {
   "cell_type": "code",
   "execution_count": null,
   "metadata": {},
   "outputs": [],
   "source": [
    "# calculate the cumulative time series\n",
    "da_cumulative = calc_cumulative_timeseries(da)"
   ]
  },
  {
   "cell_type": "code",
   "execution_count": null,
   "metadata": {},
   "outputs": [],
   "source": [
    "# fig 2\n",
    "fig = plt.figure(figsize=(12, 8))\n",
    "da_cumulative.sel(time=slice(\"2015\", \"2100\")).plot.line(x=\"time\")\n",
    "plt.title(\"Projected Changes in Cumulative Total NBP\", fontdict={\"size\": 16})\n",
    "plt.ylabel(\"NBP\" + \" (\" + da_cumulative.attrs[\"units\"] + \")\")"
   ]
  }
 ],
 "metadata": {
  "kernelspec": {
   "display_name": "Python (conda-cmip6)",
   "language": "python",
   "name": "cmip6-201910"
  },
  "language_info": {
   "codemirror_mode": {
    "name": "ipython",
    "version": 3
   },
   "file_extension": ".py",
   "mimetype": "text/x-python",
   "name": "python",
   "nbconvert_exporter": "python",
   "pygments_lexer": "ipython3",
   "version": "3.7.3"
  }
 },
 "nbformat": 4,
 "nbformat_minor": 4
}
