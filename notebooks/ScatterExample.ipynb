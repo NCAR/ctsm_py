{
 "cells": [
  {
   "cell_type": "code",
   "execution_count": null,
   "metadata": {},
   "outputs": [],
   "source": [
    "import numpy as np\n",
    "import pandas as pd\n",
    "import xarray as xr\n",
    "\n",
    "import cf_units as cf\n",
    "import scipy\n",
    "from ctsm_py import utils\n",
    "from scipy import signal, stats"
   ]
  },
  {
   "cell_type": "code",
   "execution_count": null,
   "metadata": {},
   "outputs": [],
   "source": [
    "from sklearn.linear_model import LinearRegression"
   ]
  },
  {
   "cell_type": "code",
   "execution_count": null,
   "metadata": {},
   "outputs": [],
   "source": [
    "import matplotlib.pyplot as plt\n",
    "\n",
    "%matplotlib inline"
   ]
  },
  {
   "cell_type": "markdown",
   "metadata": {},
   "source": [
    "## Reading in data"
   ],
   "execution_count": null,
   "outputs": []
  },
  {
   "cell_type": "code",
   "execution_count": null,
   "metadata": {},
   "outputs": [],
   "source": [
    "# setting up the file path structure\n",
    "dir = \"/gpfs/fs1/p/cgd/tss/people/oleson/CLM_LAND_ONLY_RELEASE/CLM5/\"\n",
    "run = \"clm50sp_clm50dev001_1deg_GSWP3V1_hist/\"\n",
    "proc = \"lnd/proc/tseries/month_1/\"\n",
    "pref = \"clm50sp_clm50dev001_1deg_GSWP3V1_hist.clm2.h0.\"\n",
    "suff = \".185001-201412.nc\"\n",
    "\n",
    "# plugging in the variable names\n",
    "variables = [\"FPSN\", \"TWS\"]\n",
    "pattern = dir + run + proc + pref + \"{var}\" + suff\n",
    "files = [pattern.format(var=var) for var in variables]"
   ]
  },
  {
   "cell_type": "code",
   "execution_count": null,
   "metadata": {},
   "outputs": [],
   "source": [
    "# import files as xarray dataset\n",
    "\n",
    "ds = utils.time_set_mid(\n",
    "    xr.open_mfdataset(files, combine=\"by_coords\", decode_times=True), \"time\"\n",
    ")\n",
    "xf = 12 * 24 * 60 * 60 / 1e6  # umol/m2/s --> g/m2/d\n",
    "ds.FPSN.values = ds.FPSN.values * xf\n",
    "ds.FPSN.attrs[\"units\"] = \"gC/m2/d\""
   ]
  },
  {
   "cell_type": "markdown",
   "metadata": {},
   "source": [
    "## Global annual mean GPP"
   ],
   "execution_count": null,
   "outputs": []
  },
  {
   "cell_type": "code",
   "execution_count": null,
   "metadata": {},
   "outputs": [],
   "source": [
    "land_area = ds.area * ds.landfrac * 1e6  # km2->m2\n",
    "land_area.attrs[\"units\"] = cf.Unit(\"m^2\")\n",
    "ix_time = (ds[\"time.year\"] > 1963) & (ds[\"time.year\"] < 2014)\n",
    "years = np.unique((ds[\"time.year\"][ix_time]).values)\n",
    "\n",
    "#  365 for d^-1 to yr^-1 ; 1e-15 for g to Pg\n",
    "global_ann_gpp = (\n",
    "    365\n",
    "    * utils.weighted_annual_mean(land_area * ds.FPSN[ix_time, :, :]).sum(\n",
    "        dim=(\"lat\", \"lon\")\n",
    "    )\n",
    "    * 1e-15\n",
    ")\n",
    "global_ann_gpp.attrs[\"units\"] = \"PgC/yr\"\n",
    "\n",
    "#  1e-15 for kg ->Tt\n",
    "global_ann_tws = (\n",
    "    utils.weighted_annual_mean(land_area * ds.TWS[ix_time, :, :]).sum(\n",
    "        dim=(\"lat\", \"lon\")\n",
    "    )\n",
    "    * 1e-15\n",
    ")\n",
    "global_ann_gpp.attrs[\"units\"] = \"TtH2O/yr\"\n",
    "\n",
    "# sanity check\n",
    "plt.figure(figsize=[9, 3])\n",
    "\n",
    "plt.subplot(121)\n",
    "plt.plot(years, global_ann_gpp)\n",
    "plt.ylim([115, 135])\n",
    "plt.yticks(np.linspace(115, 135, 5))\n",
    "plt.xlabel(\"Year\")\n",
    "plt.ylabel(\"GPP (PgC/yr)\")\n",
    "\n",
    "plt.subplot(122)\n",
    "plt.plot(years, global_ann_tws)\n",
    "plt.xlabel(\"Year\")\n",
    "plt.ylabel(\"TWS (TtH2O)\")\n",
    "\n",
    "plt.subplots_adjust(wspace=0.3)"
   ]
  },
  {
   "cell_type": "markdown",
   "metadata": {},
   "source": [
    "## Detrend data and fit linear model"
   ],
   "execution_count": null,
   "outputs": []
  },
  {
   "cell_type": "code",
   "execution_count": null,
   "metadata": {},
   "outputs": [],
   "source": [
    "global_ann_gpp_dt = signal.detrend(global_ann_gpp)\n",
    "global_ann_tws_dt = signal.detrend(global_ann_tws)\n",
    "\n",
    "model = LinearRegression().fit(global_ann_tws_dt.reshape((-1, 1)), global_ann_gpp_dt)\n",
    "\n",
    "R = np.round(stats.pearsonr(global_ann_tws_dt, global_ann_gpp_dt)[0], 2)\n",
    "slope = np.round(model.coef_, 2)[0]"
   ]
  },
  {
   "cell_type": "markdown",
   "metadata": {},
   "source": [
    "## Plot"
   ],
   "execution_count": null,
   "outputs": []
  },
  {
   "cell_type": "code",
   "execution_count": null,
   "metadata": {},
   "outputs": [],
   "source": [
    "x = np.array([-2.5, 2.5]).reshape(-1, 1)\n",
    "y = model.predict(x)\n",
    "fig = plt.figure(figsize=[5, 4])\n",
    "plt.plot(global_ann_tws_dt, global_ann_gpp_dt, \".\")\n",
    "plt.plot(x, y)\n",
    "plt.xlim(-2.5, 2.5)\n",
    "plt.ylim(-3.5, 3.5)\n",
    "plt.text(-2.3, 3, \"R = \" + str(R), fontsize=12)\n",
    "plt.text(-2.3, 2.5, \"slope = \" + str(slope), fontsize=12)\n",
    "plt.text(1.2, -3, \"1964-2013\", fontsize=12)\n",
    "plt.xlabel(\"Global TWS anomaly (TtH2O)\")\n",
    "plt.ylabel(\"Global GPP anomaly (PgC/yr)\")\n",
    "plt.title(\"CLM5-SP\")"
   ]
  },
  {
   "cell_type": "markdown",
   "metadata": {},
   "source": [
    "## Save Figure"
   ],
   "execution_count": null,
   "outputs": []
  },
  {
   "cell_type": "code",
   "execution_count": null,
   "metadata": {},
   "outputs": [],
   "source": [
    "fig.savefig(\"tws_gpp_global_clm5sp.pdf\")"
   ]
  }
 ],
 "metadata": {
  "kernelspec": {
   "display_name": "Python [conda env:miniconda3-ctsm_py]",
   "language": "python",
   "name": "conda-env-miniconda3-ctsm_py-py"
  },
  "language_info": {
   "codemirror_mode": {
    "name": "ipython",
    "version": 3
   },
   "file_extension": ".py",
   "mimetype": "text/x-python",
   "name": "python",
   "nbconvert_exporter": "python",
   "pygments_lexer": "ipython3",
   "version": "3.6.7"
  }
 },
 "nbformat": 4,
 "nbformat_minor": 4
}
