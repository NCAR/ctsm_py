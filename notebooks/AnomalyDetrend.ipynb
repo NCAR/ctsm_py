{
 "cells": [
  {
   "cell_type": "markdown",
   "metadata": {},
   "source": [
    "## Anomaly & Detrend\n",
    "This code shows as simple way to:\n",
    "- Read in a .nc file using xarray\n",
    "- Generate montly anomalies from climatology of monthly means\n",
    "- detrend data by grid cell\n",
    "\n",
    "Will Wieder Feb. 2020"
   ],
   "execution_count": null,
   "outputs": []
  },
  {
   "cell_type": "code",
   "execution_count": null,
   "metadata": {},
   "outputs": [],
   "source": [
    "import numpy as np\n",
    "import pandas as pd\n",
    "import xarray as xr\n",
    "\n",
    "import cartopy\n",
    "import cartopy.crs as ccrs\n",
    "import cf_units as cf\n",
    "import esmlab\n",
    "\n",
    "# some resources for plotting\n",
    "import matplotlib.pyplot as plt\n",
    "import scipy  # Try scipy to detrend\n",
    "import segment as sg\n",
    "from ctsm_py import utils\n",
    "from scipy import signal\n",
    "\n",
    "%matplotlib inline"
   ]
  },
  {
   "cell_type": "code",
   "execution_count": null,
   "metadata": {},
   "outputs": [],
   "source": [
    "## User defined options\n",
    "model = \"CLM5_GSWP3\"\n",
    "variables = [\"GPP\", \"NBP\", \"TWS\"]\n",
    "pattern = (\n",
    "    \"/glade/p/cgd/tss/people/oleson/CLM_LAND_ONLY_RELEASE/CLM5/clm50_r270_1deg_GSWP3V1_iso_newpopd_hist/\"\n",
    "    \"lnd/proc/tseries/month_1/clm50_r270_1deg_GSWP3V1_iso_newpopd_hist.clm2.h0.{var}.185001-201412.nc\"\n",
    ")\n",
    "files = [pattern.format(var=var) for var in variables]\n",
    "\n",
    "# Read in the data\n",
    "# utils.time_set_mid corrects dates, to get Jan of first year\n",
    "ds = utils.time_set_mid(\n",
    "    xr.open_mfdataset(files, combine=\"by_coords\", decode_times=True), \"time\"\n",
    ")  # combine needed for newer xarray versions\n",
    "\n",
    "var = variables  # redundant, but we'll keep using this for now because 'var' is used more later on...\n",
    "area = ds.area\n",
    "landfrac = ds.landfrac\n",
    "# print(ds.var)"
   ]
  },
  {
   "cell_type": "code",
   "execution_count": null,
   "metadata": {},
   "outputs": [],
   "source": [
    "# Select the time slice to analize,  here we'll do the last 25 years\n",
    "# Use esmlab to calculate climatology & anomalies\n",
    "# First we'll do this for every grid w/ monthly data\n",
    "\n",
    "years = 25\n",
    "months = years * 12\n",
    "\n",
    "ds2 = ds.isel(time=slice(-months, None))  # Select last N years of data\n",
    "ds_climo = esmlab.core.climatology(ds2, freq=\"mon\")  # Calculate climatology\n",
    "ds_anom = esmlab.core.anomaly(\n",
    "    ds2, clim_freq=\"mon\", time_coord_name=\"time\"\n",
    ")  # not sure how to use slice_mon_clim_time\n",
    "ds_anom = ds_anom.where(\n",
    "    ds_anom.get(var[0]).max(dim=\"time\")\n",
    ")  # mask out regions with no GPP for all variables\n",
    "print(ds_anom.dims)"
   ]
  },
  {
   "cell_type": "code",
   "execution_count": null,
   "metadata": {},
   "outputs": [],
   "source": [
    "# now remove trends from each grid cell\n",
    "# detrend data using signal.detrend\n",
    "# use apply_ufunc\n",
    "# This works for just for one variable\n",
    "\n",
    "\n",
    "def dtrend(anom, dim):\n",
    "    # note: apply always moves core dimensions to the end\n",
    "    return xr.apply_ufunc(\n",
    "        signal.detrend,\n",
    "        anom,\n",
    "        input_core_dims=[[dim]],\n",
    "        output_core_dims=[[dim]],\n",
    "        kwargs={\"axis\": -1},\n",
    "    )\n",
    "\n",
    "\n",
    "dt_anom = dtrend(ds_anom.GPP.load().fillna(0), \"time\")"
   ]
  },
  {
   "cell_type": "code",
   "execution_count": null,
   "metadata": {},
   "outputs": [],
   "source": [
    "# quick look at a grid cell\n",
    "\n",
    "ilat = 60\n",
    "ilon = 240\n",
    "plt.plot(\n",
    "    ds2.time[\"time.month\"], ds2[\"GPP\"].sel(lat=ilat, lon=ilon, method=\"nearest\"), \"o\"\n",
    ")\n",
    "plt.plot(\n",
    "    ds_climo.time[\"time.month\"],\n",
    "    ds_climo[\"GPP\"].sel(lat=ilat, lon=ilon, method=\"nearest\"),\n",
    "    \"-\",\n",
    "    lw=3,\n",
    ")\n",
    "plt.plot(\n",
    "    ds_anom.time[\"time.month\"],\n",
    "    ds_anom[\"GPP\"].sel(lat=ilat, lon=ilon, method=\"nearest\"),\n",
    "    \"o\",\n",
    ")\n",
    "plt.plot(\n",
    "    dt_anom.time[\"time.month\"], dt_anom.sel(lat=ilat, lon=ilon, method=\"nearest\"), \"*\"\n",
    ")\n",
    "plt.legend(labels=(\"raw\", \"climo\", \"anom\", \"dt_anom\"), frameon=False)\n",
    "plt.axhline(0, color=\"black\", lw=1)\n",
    "plt.ylabel(\"GPP (gC/m2/s)\")"
   ]
  },
  {
   "cell_type": "markdown",
   "metadata": {},
   "source": [
    "### Global means, anomalies, & detrended anomalies\n",
    "#### * These are still monthly results * "
   ],
   "execution_count": null,
   "outputs": []
  },
  {
   "cell_type": "code",
   "execution_count": null,
   "metadata": {},
   "outputs": [],
   "source": [
    "# mask out area for gridcells with no GPP for weights?\n",
    "landUp = area * landfrac * 1e6  # area in km2, not m2\n",
    "wgt = landUp / landUp.sum()  # weighting for each grid cell\n",
    "spd = 3600 * 24  # Convert  to daily fluxes (gC/m2/d), from gc/m2/s\n",
    "spy = spd * 365\n",
    "\n",
    "global_ts = esmlab.statistics.weighted_sum(ds2.GPP * landUp, dim=(\"lat\", \"lon\")) * spd\n",
    "global_ts_anom = (\n",
    "    esmlab.statistics.weighted_sum(ds_anom.GPP * landUp, dim=(\"lat\", \"lon\")) * spd\n",
    ")\n",
    "global_ts_dt = signal.detrend(global_ts_anom)\n",
    "\n",
    "# Then makes some plots\n",
    "plt.plot(global_ts.time, global_ts_anom, \"-\")\n",
    "plt.plot(global_ts.time, global_ts_dt, \"-\")\n",
    "plt.ylabel(\"Global monthly GPP anomalies (gC/m2/d)\")\n",
    "plt.legend(labels=(\"monthly anomalies\", \"detrended anomalies\"))"
   ]
  },
  {
   "cell_type": "markdown",
   "metadata": {},
   "source": [
    "### Convert monthly to annual"
   ],
   "execution_count": null,
   "outputs": []
  },
  {
   "cell_type": "code",
   "execution_count": null,
   "metadata": {},
   "outputs": [],
   "source": [
    "# These values don't make any sense, let's have a closer look.\n",
    "\n",
    "# apply iterates through all variables in a dataset and applies the function to each variable.\n",
    "# ?? Would be nice to do this differently for fluxes & stocks ??\n",
    "ann_mean = utils.weighted_annual_mean(ds2[\"GPP\"]) * spy\n",
    "ann_mean.attrs[\"units\"] = \"gC m-2 y-1\"\n",
    "print(ann_mean)\n",
    "# print(ds2.apply_ufunc(utils.weighted_annual_mean))\n",
    "\n",
    "# ann_mean_anom  = esmlab.core.anomaly(ann_mean, clim_freq='mon', time_coord_name='time') #not sure how to use slice_mon_clim_time\n",
    "\n",
    "global_ann_ts = (\n",
    "    esmlab.statistics.weighted_sum(ann_mean * landUp, dim=(\"lat\", \"lon\")) * 1e-15\n",
    ")  # PgC y-1\n",
    "global_ann_dt = signal.detrend(global_ann_ts)\n",
    "# global_ann_dt.attrs['units'] = 'PgC y-1'\n",
    "print(global_ann_ts.values)\n",
    "# plt.plot(global_ann_ts.time, global_ann_ts, '-' )\n",
    "plt.plot(global_ann_ts.time, global_ann_dt, \"-\")\n",
    "plt.ylabel(\"Global annual GPP anomalies (PgC/y)\")"
   ]
  }
 ],
 "metadata": {
  "kernelspec": {
   "display_name": "Python [conda env:miniconda3-python-tutorial]",
   "language": "python",
   "name": "conda-env-miniconda3-python-tutorial-py"
  },
  "language_info": {
   "codemirror_mode": {
    "name": "ipython",
    "version": 3
   },
   "file_extension": ".py",
   "mimetype": "text/x-python",
   "name": "python",
   "nbconvert_exporter": "python",
   "pygments_lexer": "ipython3",
   "version": "3.7.3"
  }
 },
 "nbformat": 4,
 "nbformat_minor": 4
}
