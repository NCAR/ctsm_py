{
 "cells": [
  {
   "cell_type": "code",
   "execution_count": 1,
   "metadata": {},
   "outputs": [],
   "source": [
    "import xarray as xr\n",
    "import numpy as np\n",
    "import matplotlib.pyplot as plt\n",
    "\n",
    "import warnings\n",
    "warnings.filterwarnings(\"ignore\")\n",
    "#note: Dan uses \"import glob\" -- glob handles wildcards better than xarray for reading in multiple files"
   ]
  },
  {
   "cell_type": "code",
   "execution_count": 2,
   "metadata": {},
   "outputs": [],
   "source": [
    "import intake"
   ]
  },
  {
   "cell_type": "code",
   "execution_count": 3,
   "metadata": {},
   "outputs": [
    {
     "data": {
      "text/html": [
       "<div>\n",
       "<style scoped>\n",
       "    .dataframe tbody tr th:only-of-type {\n",
       "        vertical-align: middle;\n",
       "    }\n",
       "\n",
       "    .dataframe tbody tr th {\n",
       "        vertical-align: top;\n",
       "    }\n",
       "\n",
       "    .dataframe thead th {\n",
       "        text-align: right;\n",
       "    }\n",
       "</style>\n",
       "<table border=\"1\" class=\"dataframe\">\n",
       "  <thead>\n",
       "    <tr style=\"text-align: right;\">\n",
       "      <th></th>\n",
       "      <th>activity_id</th>\n",
       "      <th>institution_id</th>\n",
       "      <th>source_id</th>\n",
       "      <th>experiment_id</th>\n",
       "      <th>member_id</th>\n",
       "      <th>table_id</th>\n",
       "      <th>variable_id</th>\n",
       "      <th>grid_label</th>\n",
       "      <th>dcpp_init_year</th>\n",
       "      <th>version</th>\n",
       "      <th>time_range</th>\n",
       "      <th>path</th>\n",
       "    </tr>\n",
       "  </thead>\n",
       "  <tbody>\n",
       "    <tr>\n",
       "      <td>0</td>\n",
       "      <td>AerChemMIP</td>\n",
       "      <td>BCC</td>\n",
       "      <td>BCC-ESM1</td>\n",
       "      <td>ssp370</td>\n",
       "      <td>r1i1p1f1</td>\n",
       "      <td>Amon</td>\n",
       "      <td>hfss</td>\n",
       "      <td>gn</td>\n",
       "      <td>NaN</td>\n",
       "      <td>v20190624</td>\n",
       "      <td>201501-205512</td>\n",
       "      <td>/glade/collections/cmip/CMIP6/AerChemMIP/BCC/B...</td>\n",
       "    </tr>\n",
       "    <tr>\n",
       "      <td>1</td>\n",
       "      <td>AerChemMIP</td>\n",
       "      <td>BCC</td>\n",
       "      <td>BCC-ESM1</td>\n",
       "      <td>ssp370</td>\n",
       "      <td>r1i1p1f1</td>\n",
       "      <td>Amon</td>\n",
       "      <td>pr</td>\n",
       "      <td>gn</td>\n",
       "      <td>NaN</td>\n",
       "      <td>v20190624</td>\n",
       "      <td>201501-205512</td>\n",
       "      <td>/glade/collections/cmip/CMIP6/AerChemMIP/BCC/B...</td>\n",
       "    </tr>\n",
       "    <tr>\n",
       "      <td>2</td>\n",
       "      <td>AerChemMIP</td>\n",
       "      <td>BCC</td>\n",
       "      <td>BCC-ESM1</td>\n",
       "      <td>ssp370</td>\n",
       "      <td>r1i1p1f1</td>\n",
       "      <td>Amon</td>\n",
       "      <td>rsus</td>\n",
       "      <td>gn</td>\n",
       "      <td>NaN</td>\n",
       "      <td>v20190624</td>\n",
       "      <td>201501-205512</td>\n",
       "      <td>/glade/collections/cmip/CMIP6/AerChemMIP/BCC/B...</td>\n",
       "    </tr>\n",
       "    <tr>\n",
       "      <td>3</td>\n",
       "      <td>AerChemMIP</td>\n",
       "      <td>BCC</td>\n",
       "      <td>BCC-ESM1</td>\n",
       "      <td>ssp370</td>\n",
       "      <td>r1i1p1f1</td>\n",
       "      <td>Amon</td>\n",
       "      <td>tas</td>\n",
       "      <td>gn</td>\n",
       "      <td>NaN</td>\n",
       "      <td>v20190624</td>\n",
       "      <td>201501-205512</td>\n",
       "      <td>/glade/collections/cmip/CMIP6/AerChemMIP/BCC/B...</td>\n",
       "    </tr>\n",
       "    <tr>\n",
       "      <td>4</td>\n",
       "      <td>AerChemMIP</td>\n",
       "      <td>BCC</td>\n",
       "      <td>BCC-ESM1</td>\n",
       "      <td>ssp370</td>\n",
       "      <td>r1i1p1f1</td>\n",
       "      <td>Amon</td>\n",
       "      <td>ts</td>\n",
       "      <td>gn</td>\n",
       "      <td>NaN</td>\n",
       "      <td>v20190624</td>\n",
       "      <td>201501-205512</td>\n",
       "      <td>/glade/collections/cmip/CMIP6/AerChemMIP/BCC/B...</td>\n",
       "    </tr>\n",
       "  </tbody>\n",
       "</table>\n",
       "</div>"
      ],
      "text/plain": [
       "  activity_id institution_id source_id experiment_id member_id table_id  \\\n",
       "0  AerChemMIP            BCC  BCC-ESM1        ssp370  r1i1p1f1     Amon   \n",
       "1  AerChemMIP            BCC  BCC-ESM1        ssp370  r1i1p1f1     Amon   \n",
       "2  AerChemMIP            BCC  BCC-ESM1        ssp370  r1i1p1f1     Amon   \n",
       "3  AerChemMIP            BCC  BCC-ESM1        ssp370  r1i1p1f1     Amon   \n",
       "4  AerChemMIP            BCC  BCC-ESM1        ssp370  r1i1p1f1     Amon   \n",
       "\n",
       "  variable_id grid_label  dcpp_init_year    version     time_range  \\\n",
       "0        hfss         gn             NaN  v20190624  201501-205512   \n",
       "1          pr         gn             NaN  v20190624  201501-205512   \n",
       "2        rsus         gn             NaN  v20190624  201501-205512   \n",
       "3         tas         gn             NaN  v20190624  201501-205512   \n",
       "4          ts         gn             NaN  v20190624  201501-205512   \n",
       "\n",
       "                                                path  \n",
       "0  /glade/collections/cmip/CMIP6/AerChemMIP/BCC/B...  \n",
       "1  /glade/collections/cmip/CMIP6/AerChemMIP/BCC/B...  \n",
       "2  /glade/collections/cmip/CMIP6/AerChemMIP/BCC/B...  \n",
       "3  /glade/collections/cmip/CMIP6/AerChemMIP/BCC/B...  \n",
       "4  /glade/collections/cmip/CMIP6/AerChemMIP/BCC/B...  "
      ]
     },
     "execution_count": 3,
     "metadata": {},
     "output_type": "execute_result"
    }
   ],
   "source": [
    "catalog = intake.open_esm_datastore(\"/glade/collections/cmip/catalog/intake-esm-datastore/catalogs/glade-cmip6.json\")\n",
    "catalog.df.head()"
   ]
  },
  {
   "cell_type": "code",
   "execution_count": 4,
   "metadata": {},
   "outputs": [],
   "source": [
    "test_sr = catalog.search(experiment_id=['historical'], variable_id='co2')"
   ]
  },
  {
   "cell_type": "code",
   "execution_count": 5,
   "metadata": {},
   "outputs": [
    {
     "data": {
      "text/plain": [
       "{'source_id': {'count': 10,\n",
       "  'values': ['BCC-CSM2-MR',\n",
       "   'BCC-ESM1',\n",
       "   'CNRM-ESM2-1',\n",
       "   'MIROC-ES2L',\n",
       "   'MRI-ESM2-0',\n",
       "   'CESM2-FV2',\n",
       "   'CESM2-WACCM-FV2',\n",
       "   'CESM2-WACCM',\n",
       "   'CESM2',\n",
       "   'GFDL-ESM4']}}"
      ]
     },
     "execution_count": 5,
     "metadata": {},
     "output_type": "execute_result"
    }
   ],
   "source": [
    "test_sr.unique('source_id')"
   ]
  },
  {
   "cell_type": "code",
   "execution_count": 6,
   "metadata": {},
   "outputs": [
    {
     "data": {
      "text/plain": [
       "{'member_id': {'count': 16,\n",
       "  'values': ['r1i1p1f1',\n",
       "   'r2i1p1f1',\n",
       "   'r3i1p1f1',\n",
       "   'r1i1p1f2',\n",
       "   'r2i1p1f2',\n",
       "   'r3i1p1f2',\n",
       "   'r4i1p1f2',\n",
       "   'r5i1p1f2',\n",
       "   'r4i1p1f1',\n",
       "   'r5i1p1f1',\n",
       "   'r10i1p1f1',\n",
       "   'r11i1p1f1',\n",
       "   'r6i1p1f1',\n",
       "   'r7i1p1f1',\n",
       "   'r8i1p1f1',\n",
       "   'r9i1p1f1']}}"
      ]
     },
     "execution_count": 6,
     "metadata": {},
     "output_type": "execute_result"
    }
   ],
   "source": [
    "#don't really understand this output\n",
    "test_sr.unique('member_id')"
   ]
  },
  {
   "cell_type": "markdown",
   "metadata": {},
   "source": [
    "### Reading catalog to load CO2 values for CMIP6 models\n",
    "Multiple configurations of BCC and CESM available. Choosing one narrows models to 4.\n",
    "Difficult to tell how many models have multiple ensemble members, so only using first member"
   ]
  },
  {
   "cell_type": "code",
   "execution_count": 7,
   "metadata": {},
   "outputs": [],
   "source": [
    "table_id = 'Amon'\n",
    "var = 'co2'\n",
    "# note that there are different numbers of model output available depending on options used for source_id and member_id\n",
    "# should I consider using multiple ensemble members per model? multiple model configurations per model?\n",
    "member_id = [\"r1i1p1f1\",\"r2i1p1f1\",\"r3i1p1f1\",\"r4i1p1f1\",\"r5i1p1f1\",\"r6i1p1f1\"]\n",
    "cat = catalog.search(experiment_id=['historical'], variable_id=var,\n",
    "#                        source_id=test_sr.unique('source_id')['source_id']['values'], \n",
    "                        source_id=['CESM2','BCC-ESM1','MRI-ESM2-0','GFDL-ESM4'], \n",
    "#                        table_id=table_id, member_id =member_id)\n",
    "                        table_id=table_id, member_id =\"r1i1p1f1\")"
   ]
  },
  {
   "cell_type": "code",
   "execution_count": 8,
   "metadata": {},
   "outputs": [
    {
     "data": {
      "text/plain": [
       "['BCC-ESM1', 'MRI-ESM2-0', 'CESM2', 'GFDL-ESM4']"
      ]
     },
     "execution_count": 8,
     "metadata": {},
     "output_type": "execute_result"
    }
   ],
   "source": [
    "cat.unique('source_id')['source_id']['values']"
   ]
  },
  {
   "cell_type": "code",
   "execution_count": 9,
   "metadata": {},
   "outputs": [
    {
     "data": {
      "text/plain": [
       "['r1i1p1f1']"
      ]
     },
     "execution_count": 9,
     "metadata": {},
     "output_type": "execute_result"
    }
   ],
   "source": [
    "cat.unique('member_id')['member_id']['values']"
   ]
  },
  {
   "cell_type": "code",
   "execution_count": 10,
   "metadata": {},
   "outputs": [
    {
     "data": {
      "text/plain": [
       "{'grid_label': {'count': 2, 'values': ['gn', 'gr1']}}"
      ]
     },
     "execution_count": 10,
     "metadata": {},
     "output_type": "execute_result"
    }
   ],
   "source": [
    "cat.unique('grid_label')"
   ]
  },
  {
   "cell_type": "markdown",
   "metadata": {},
   "source": [
    "### Converting data to dictionary"
   ]
  },
  {
   "cell_type": "code",
   "execution_count": 11,
   "metadata": {},
   "outputs": [
    {
     "name": "stdout",
     "output_type": "stream",
     "text": [
      "\n",
      "xarray will load netCDF datasets with dask using a single chunk for all arrays.\n",
      "For effective chunking, please provide chunks in cdf_kwargs.\n",
      "For example: cdf_kwargs={'chunks': {'time': 36}}\n",
      "\n",
      "--> The keys in the returned dictionary of datasets are constructed as follows:\n",
      "\t'activity_id.institution_id.source_id.experiment_id.table_id.grid_label'\n",
      "\n",
      "--> There will be 4 group(s)\n"
     ]
    }
   ],
   "source": [
    "co2_ds = cat.to_dataset_dict()"
   ]
  },
  {
   "cell_type": "code",
   "execution_count": 12,
   "metadata": {},
   "outputs": [
    {
     "data": {
      "text/plain": [
       "dict_keys(['CMIP.BCC.BCC-ESM1.historical.Amon.gn', 'CMIP.MRI.MRI-ESM2-0.historical.Amon.gn', 'CMIP.NCAR.CESM2.historical.Amon.gn', 'CMIP.NOAA-GFDL.GFDL-ESM4.historical.Amon.gr1'])"
      ]
     },
     "execution_count": 12,
     "metadata": {},
     "output_type": "execute_result"
    }
   ],
   "source": [
    "co2_ds.keys()"
   ]
  },
  {
   "cell_type": "markdown",
   "metadata": {},
   "source": [
    "### Get the fixed variables output, only available for historical simulations (gridcell area, landfrac)\n"
   ]
  },
  {
   "cell_type": "code",
   "execution_count": 13,
   "metadata": {},
   "outputs": [],
   "source": [
    "sr_fx_ctrl_vars = catalog.search(table_id = ['fx'], source_id = cat.unique('source_id')['source_id']['values'], \n",
    "                                 member_id = cat.unique('member_id')['member_id']['values'], \n",
    "                                 experiment_id = 'historical', variable_id = ['areacella', 'sftlf'])"
   ]
  },
  {
   "cell_type": "code",
   "execution_count": 14,
   "metadata": {},
   "outputs": [
    {
     "data": {
      "text/plain": [
       "{'grid_label': {'count': 2, 'values': ['gn', 'gr1']}}"
      ]
     },
     "execution_count": 14,
     "metadata": {},
     "output_type": "execute_result"
    }
   ],
   "source": [
    "sr_fx_ctrl_vars.unique('grid_label')"
   ]
  },
  {
   "cell_type": "code",
   "execution_count": 15,
   "metadata": {},
   "outputs": [
    {
     "name": "stdout",
     "output_type": "stream",
     "text": [
      "\n",
      "xarray will load netCDF datasets with dask using a single chunk for all arrays.\n",
      "For effective chunking, please provide chunks in cdf_kwargs.\n",
      "For example: cdf_kwargs={'chunks': {'time': 36}}\n",
      "\n",
      "--> The keys in the returned dictionary of datasets are constructed as follows:\n",
      "\t'activity_id.institution_id.source_id.experiment_id.table_id.grid_label'\n",
      "\n",
      "--> There will be 3 group(s)\n"
     ]
    }
   ],
   "source": [
    "fx_ds = sr_fx_ctrl_vars.to_dataset_dict()"
   ]
  },
  {
   "cell_type": "code",
   "execution_count": 16,
   "metadata": {},
   "outputs": [
    {
     "data": {
      "text/plain": [
       "dict_keys(['CMIP.MRI.MRI-ESM2-0.historical.fx.gn', 'CMIP.NCAR.CESM2.historical.fx.gn', 'CMIP.NOAA-GFDL.GFDL-ESM4.historical.fx.gr1'])"
      ]
     },
     "execution_count": 16,
     "metadata": {},
     "output_type": "execute_result"
    }
   ],
   "source": [
    "#what happened to the BCC model? Doesn't seem to have fx (also checked /glade/collections/cmip/CMIP6/CMIP/BCC)\n",
    "fx_ds.keys()"
   ]
  },
  {
   "cell_type": "markdown",
   "metadata": {},
   "source": [
    "###   \n",
    "### Starting data analysis\n",
    "###   "
   ]
  },
  {
   "cell_type": "code",
   "execution_count": 17,
   "metadata": {},
   "outputs": [
    {
     "ename": "AttributeError",
     "evalue": "'function' object has no attribute 'shape'",
     "output_type": "error",
     "traceback": [
      "\u001b[0;31m---------------------------------------------------------------------------\u001b[0m",
      "\u001b[0;31mAttributeError\u001b[0m                            Traceback (most recent call last)",
      "\u001b[0;32m<ipython-input-17-32776d076eaf>\u001b[0m in \u001b[0;36m<module>\u001b[0;34m\u001b[0m\n\u001b[1;32m      1\u001b[0m \u001b[0;32mfor\u001b[0m \u001b[0msim_name\u001b[0m\u001b[0;34m,\u001b[0m \u001b[0mdata\u001b[0m \u001b[0;32min\u001b[0m \u001b[0mco2_ds\u001b[0m\u001b[0;34m.\u001b[0m\u001b[0mitems\u001b[0m\u001b[0;34m(\u001b[0m\u001b[0;34m)\u001b[0m\u001b[0;34m:\u001b[0m\u001b[0;34m\u001b[0m\u001b[0;34m\u001b[0m\u001b[0m\n\u001b[0;32m----> 2\u001b[0;31m     \u001b[0mnum_years\u001b[0m \u001b[0;34m=\u001b[0m \u001b[0mdata\u001b[0m\u001b[0;34m.\u001b[0m\u001b[0mvalues\u001b[0m\u001b[0;34m.\u001b[0m\u001b[0mshape\u001b[0m\u001b[0;34m[\u001b[0m\u001b[0;36m0\u001b[0m\u001b[0;34m]\u001b[0m\u001b[0;34m//\u001b[0m\u001b[0;36m12\u001b[0m\u001b[0;34m\u001b[0m\u001b[0;34m\u001b[0m\u001b[0m\n\u001b[0m\u001b[1;32m      3\u001b[0m     \u001b[0mreshaped\u001b[0m \u001b[0;34m=\u001b[0m \u001b[0mdata\u001b[0m\u001b[0;34m.\u001b[0m\u001b[0mvalues\u001b[0m\u001b[0;34m.\u001b[0m\u001b[0mreshape\u001b[0m\u001b[0;34m(\u001b[0m\u001b[0mnum_years\u001b[0m\u001b[0;34m,\u001b[0m \u001b[0;36m12\u001b[0m\u001b[0;34m,\u001b[0m \u001b[0;34m*\u001b[0m\u001b[0mdata\u001b[0m\u001b[0;34m.\u001b[0m\u001b[0mvalues\u001b[0m\u001b[0;34m.\u001b[0m\u001b[0mshape\u001b[0m\u001b[0;34m[\u001b[0m\u001b[0;36m1\u001b[0m\u001b[0;34m:\u001b[0m\u001b[0;34m]\u001b[0m\u001b[0;34m)\u001b[0m\u001b[0;34m\u001b[0m\u001b[0;34m\u001b[0m\u001b[0m\n\u001b[1;32m      4\u001b[0m     values = xr.DataArray(reshaped,\n\u001b[1;32m      5\u001b[0m                           \u001b[0mdims\u001b[0m\u001b[0;34m=\u001b[0m\u001b[0;34m(\u001b[0m\u001b[0;34m'year'\u001b[0m\u001b[0;34m,\u001b[0m\u001b[0;34m'month'\u001b[0m\u001b[0;34m,\u001b[0m\u001b[0;34m'lat'\u001b[0m\u001b[0;34m,\u001b[0m\u001b[0;34m'lon'\u001b[0m\u001b[0;34m)\u001b[0m\u001b[0;34m,\u001b[0m\u001b[0;34m\u001b[0m\u001b[0;34m\u001b[0m\u001b[0m\n",
      "\u001b[0;31mAttributeError\u001b[0m: 'function' object has no attribute 'shape'"
     ]
    }
   ],
   "source": [
    "# This doesn't work as is. Testing portions of it below. \n",
    "#for sim_name, data in co2_ds.items():\n",
    "#    print(data)\n",
    "#    num_years = data.values.shape[0]//12\n",
    "#    reshaped = data.values.reshape(num_years, 12, *data.values.shape[1:])\n",
    "#    values = xr.DataArray(reshaped,\n",
    "#                          dims=('year','month','lat','lon'),\n",
    "#                          coords=(np.arange(1850, 1850+num_years), np.arange(12), data.lat, data.lon))\n",
    "#    values.attrs['units'] = data.attrs['units']\n",
    "#    co2_ds[sim_name] = values\n",
    "    \n",
    "#reshaped  = grid_dims.values.reshape(num_years,12,*grid_dims.values.shape[1:])"
   ]
  },
  {
   "cell_type": "code",
   "execution_count": 21,
   "metadata": {},
   "outputs": [
    {
     "ename": "AttributeError",
     "evalue": "'dict' object has no attribute 'time'",
     "output_type": "error",
     "traceback": [
      "\u001b[0;31m---------------------------------------------------------------------------\u001b[0m",
      "\u001b[0;31mAttributeError\u001b[0m                            Traceback (most recent call last)",
      "\u001b[0;32m<ipython-input-21-390077838dd2>\u001b[0m in \u001b[0;36m<module>\u001b[0;34m\u001b[0m\n\u001b[0;32m----> 1\u001b[0;31m \u001b[0mtime\u001b[0m            \u001b[0;34m=\u001b[0m \u001b[0mco2_ds\u001b[0m\u001b[0;34m.\u001b[0m\u001b[0mtime\u001b[0m\u001b[0;34m\u001b[0m\u001b[0;34m\u001b[0m\u001b[0m\n\u001b[0m\u001b[1;32m      2\u001b[0m \u001b[0mnum_years\u001b[0m       \u001b[0;34m=\u001b[0m \u001b[0mlen\u001b[0m\u001b[0;34m(\u001b[0m\u001b[0mtime\u001b[0m\u001b[0;34m)\u001b[0m\u001b[0;34m//\u001b[0m\u001b[0;36m12\u001b[0m\u001b[0;34m\u001b[0m\u001b[0;34m\u001b[0m\u001b[0m\n",
      "\u001b[0;31mAttributeError\u001b[0m: 'dict' object has no attribute 'time'"
     ]
    }
   ],
   "source": []
  },
  {
   "cell_type": "code",
   "execution_count": 25,
   "metadata": {},
   "outputs": [
    {
     "name": "stdout",
     "output_type": "stream",
     "text": [
      "<xarray.Dataset>\n",
      "Dimensions:    (bnds: 2, lat: 64, lon: 128, member_id: 1, plev: 19, time: 1980)\n",
      "Coordinates:\n",
      "  * member_id  (member_id) <U8 'r1i1p1f1'\n",
      "  * plev       (plev) float64 1e+05 9.25e+04 8.5e+04 7e+04 ... 1e+03 500.0 100.0\n",
      "  * lon        (lon) float64 0.0 2.812 5.625 8.438 ... 348.8 351.6 354.4 357.2\n",
      "  * lat        (lat) float64 -87.86 -85.1 -82.31 -79.53 ... 82.31 85.1 87.86\n",
      "  * time       (time) object 1850-01-16 12:00:00 ... 2014-12-16 12:00:00\n",
      "Dimensions without coordinates: bnds\n",
      "Data variables:\n",
      "    lon_bnds   (lon, bnds) float64 dask.array<chunksize=(128, 2), meta=np.ndarray>\n",
      "    lat_bnds   (lat, bnds) float64 dask.array<chunksize=(64, 2), meta=np.ndarray>\n",
      "    time_bnds  (time, bnds) object dask.array<chunksize=(1980, 2), meta=np.ndarray>\n",
      "    co2        (member_id, time, plev, lat, lon) float32 dask.array<chunksize=(1, 1980, 19, 64, 128), meta=np.ndarray>\n",
      "Attributes:\n",
      "    Conventions:            CF-1.7 CMIP-6.2\n",
      "    activity_id:            CMIP\n",
      "    branch_method:          Standard\n",
      "    branch_time_in_child:   0.0\n",
      "    branch_time_in_parent:  2110.0\n",
      "    comment:                The model integration starts from the piControl e...\n",
      "    contact:                Dr. Tongwen Wu(twwu@cma.gov.cn)\n",
      "    creation_date:          2018-12-17T02:21:32Z\n",
      "    data_specs_version:     01.00.27\n",
      "    description:            DECK: historical\n",
      "    experiment:             all-forcing simulation of the recent past\n",
      "    experiment_id:          historical\n",
      "    external_variables:     areacella\n",
      "    forcing_index:          1\n",
      "    frequency:              mon\n",
      "    further_info_url:       https://furtherinfo.es-doc.org/CMIP6.BCC.BCC-ESM1...\n",
      "    grid:                   T42\n",
      "    grid_label:             gn\n",
      "    history:                2018-12-17T02:21:31Z ; CMOR rewrote data to be co...\n",
      "    initialization_index:   1\n",
      "    institution:            Beijing Climate Center, Beijing 100081, China\n",
      "    institution_id:         BCC\n",
      "    mip_era:                CMIP6\n",
      "    nominal_resolution:     250 km\n",
      "    parent_activity_id:     CMIP\n",
      "    parent_experiment_id:   piControl\n",
      "    parent_mip_era:         CMIP6\n",
      "    parent_source_id:       BCC-ESM1\n",
      "    parent_time_units:      days since 1850-01-01\n",
      "    parent_variant_label:   r1i1p1f1\n",
      "    physics_index:          1\n",
      "    product:                model-output\n",
      "    realization_index:      1\n",
      "    realm:                  atmos\n",
      "    references:             Model described by Tongwen Wu et al. (JGR 2013; J...\n",
      "    run_variant:            forcing: greenhouse gases,aerosol emission,solar ...\n",
      "    source:                 BCC-ESM 1 (2017):   aerosol: none  atmos: BCC_AGC...\n",
      "    source_id:              BCC-ESM1\n",
      "    source_type:            AER AOGCM CHEM\n",
      "    sub_experiment:         none\n",
      "    sub_experiment_id:      none\n",
      "    table_id:               Amon\n",
      "    table_info:             Creation Date:(30 July 2018) MD5:e53ff52009d0b97d...\n",
      "    title:                  BCC-ESM1 output prepared for CMIP6\n",
      "    tracking_id:            hdl:21.14100/67b8294a-7611-4d96-ac2d-b76e59fc8a01\n",
      "    variable_id:            co2\n",
      "    variant_label:          r1i1p1f1\n",
      "    license:                CMIP6 model data produced by BCC is licensed unde...\n",
      "    cmor_version:           3.3.2\n"
     ]
    },
    {
     "ename": "IndexError",
     "evalue": "tuple index out of range",
     "output_type": "error",
     "traceback": [
      "\u001b[0;31m---------------------------------------------------------------------------\u001b[0m",
      "\u001b[0;31mIndexError\u001b[0m                                Traceback (most recent call last)",
      "\u001b[0;32m<ipython-input-25-748ca22abb91>\u001b[0m in \u001b[0;36m<module>\u001b[0;34m\u001b[0m\n\u001b[1;32m      2\u001b[0m     \u001b[0mprint\u001b[0m\u001b[0;34m(\u001b[0m\u001b[0mdata\u001b[0m\u001b[0;34m)\u001b[0m\u001b[0;34m\u001b[0m\u001b[0;34m\u001b[0m\u001b[0m\n\u001b[1;32m      3\u001b[0m \u001b[0;31m#note that this isn't correct -- the time dimension is the last dimension in each of these.\u001b[0m\u001b[0;34m\u001b[0m\u001b[0;34m\u001b[0m\u001b[0;34m\u001b[0m\u001b[0m\n\u001b[0;32m----> 4\u001b[0;31m     \u001b[0mnum_years\u001b[0m \u001b[0;34m=\u001b[0m \u001b[0mdata\u001b[0m\u001b[0;34m.\u001b[0m\u001b[0mco2\u001b[0m\u001b[0;34m.\u001b[0m\u001b[0mvalues\u001b[0m\u001b[0;34m.\u001b[0m\u001b[0mshape\u001b[0m\u001b[0;34m[\u001b[0m\u001b[0;36m5\u001b[0m\u001b[0;34m]\u001b[0m\u001b[0;34m//\u001b[0m\u001b[0;36m12\u001b[0m\u001b[0;34m\u001b[0m\u001b[0;34m\u001b[0m\u001b[0m\n\u001b[0m\u001b[1;32m      5\u001b[0m     \u001b[0mprint\u001b[0m\u001b[0;34m(\u001b[0m\u001b[0mnum_years\u001b[0m\u001b[0;34m)\u001b[0m\u001b[0;34m\u001b[0m\u001b[0;34m\u001b[0m\u001b[0m\n\u001b[1;32m      6\u001b[0m \u001b[0;31m#    num_years = data.co2.values.shape(dim=time)\u001b[0m\u001b[0;34m\u001b[0m\u001b[0;34m\u001b[0m\u001b[0;34m\u001b[0m\u001b[0m\n",
      "\u001b[0;31mIndexError\u001b[0m: tuple index out of range"
     ]
    }
   ],
   "source": [
    "for sim_name, data in co2_ds.items():\n",
    "    print(data)\n",
    "#note that this isn't correct -- the time dimension is the last dimension in each of these. \n",
    "    num_years = data.co2.values.shape[5]//12\n",
    "    print(num_years)\n",
    "#    num_years = data.co2.values.shape(dim=time)\n"
   ]
  },
  {
   "cell_type": "code",
   "execution_count": 17,
   "metadata": {},
   "outputs": [
    {
     "ename": "AttributeError",
     "evalue": "'builtin_function_or_method' object has no attribute 'shape'",
     "output_type": "error",
     "traceback": [
      "\u001b[0;31m---------------------------------------------------------------------------\u001b[0m",
      "\u001b[0;31mAttributeError\u001b[0m                            Traceback (most recent call last)",
      "\u001b[0;32m<ipython-input-17-e14b5a8cda08>\u001b[0m in \u001b[0;36m<module>\u001b[0;34m\u001b[0m\n\u001b[0;32m----> 1\u001b[0;31m \u001b[0mnum_years\u001b[0m \u001b[0;34m=\u001b[0m \u001b[0mco2_ds\u001b[0m\u001b[0;34m.\u001b[0m\u001b[0mvalues\u001b[0m\u001b[0;34m.\u001b[0m\u001b[0mshape\u001b[0m\u001b[0;34m[\u001b[0m\u001b[0;36m0\u001b[0m\u001b[0;34m]\u001b[0m\u001b[0;34m//\u001b[0m\u001b[0;36m12\u001b[0m\u001b[0;34m\u001b[0m\u001b[0;34m\u001b[0m\u001b[0m\n\u001b[0m",
      "\u001b[0;31mAttributeError\u001b[0m: 'builtin_function_or_method' object has no attribute 'shape'"
     ]
    }
   ],
   "source": [
    "years_mo = co2_ds.values.reshape(num_years,12,*co2_ds.values.shape[1:])"
   ]
  },
  {
   "cell_type": "code",
   "execution_count": 37,
   "metadata": {},
   "outputs": [
    {
     "name": "stdout",
     "output_type": "stream",
     "text": [
      "None\n"
     ]
    }
   ],
   "source": [
    "val  = co2_ds.get('CMIP.MRI.MRI-ESM2-0.historical.fx.gn')\n",
    "print(val)"
   ]
  },
  {
   "cell_type": "code",
   "execution_count": null,
   "metadata": {},
   "outputs": [],
   "source": []
  }
 ],
 "metadata": {
  "kernelspec": {
   "display_name": "CMIP6 2019.10a",
   "language": "python",
   "name": "cmip6-201910a"
  },
  "language_info": {
   "codemirror_mode": {
    "name": "ipython",
    "version": 3
   },
   "file_extension": ".py",
   "mimetype": "text/x-python",
   "name": "python",
   "nbconvert_exporter": "python",
   "pygments_lexer": "ipython3",
   "version": "3.7.3"
  }
 },
 "nbformat": 4,
 "nbformat_minor": 4
}
