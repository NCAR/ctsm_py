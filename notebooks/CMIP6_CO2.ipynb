{
 "cells": [
  {
   "cell_type": "code",
   "execution_count": 1,
   "metadata": {},
   "outputs": [],
   "source": [
    "import xarray as xr\n",
    "import numpy as np\n",
    "import matplotlib.pyplot as plt\n",
    "\n",
    "import warnings\n",
    "warnings.filterwarnings(\"ignore\")\n",
    "#note: Dan uses \"import glob\" -- glob handles wildcards better than xarray for reading in multiple files"
   ]
  },
  {
   "cell_type": "code",
   "execution_count": 2,
   "metadata": {},
   "outputs": [],
   "source": [
    "import intake"
   ]
  },
  {
   "cell_type": "code",
   "execution_count": 3,
   "metadata": {},
   "outputs": [
    {
     "data": {
      "text/html": [
       "<div>\n",
       "<style scoped>\n",
       "    .dataframe tbody tr th:only-of-type {\n",
       "        vertical-align: middle;\n",
       "    }\n",
       "\n",
       "    .dataframe tbody tr th {\n",
       "        vertical-align: top;\n",
       "    }\n",
       "\n",
       "    .dataframe thead th {\n",
       "        text-align: right;\n",
       "    }\n",
       "</style>\n",
       "<table border=\"1\" class=\"dataframe\">\n",
       "  <thead>\n",
       "    <tr style=\"text-align: right;\">\n",
       "      <th></th>\n",
       "      <th>activity_id</th>\n",
       "      <th>institution_id</th>\n",
       "      <th>source_id</th>\n",
       "      <th>experiment_id</th>\n",
       "      <th>member_id</th>\n",
       "      <th>table_id</th>\n",
       "      <th>variable_id</th>\n",
       "      <th>grid_label</th>\n",
       "      <th>dcpp_init_year</th>\n",
       "      <th>version</th>\n",
       "      <th>time_range</th>\n",
       "      <th>path</th>\n",
       "    </tr>\n",
       "  </thead>\n",
       "  <tbody>\n",
       "    <tr>\n",
       "      <td>0</td>\n",
       "      <td>AerChemMIP</td>\n",
       "      <td>BCC</td>\n",
       "      <td>BCC-ESM1</td>\n",
       "      <td>ssp370</td>\n",
       "      <td>r1i1p1f1</td>\n",
       "      <td>Amon</td>\n",
       "      <td>hfss</td>\n",
       "      <td>gn</td>\n",
       "      <td>NaN</td>\n",
       "      <td>v20190624</td>\n",
       "      <td>201501-205512</td>\n",
       "      <td>/glade/collections/cmip/CMIP6/AerChemMIP/BCC/B...</td>\n",
       "    </tr>\n",
       "    <tr>\n",
       "      <td>1</td>\n",
       "      <td>AerChemMIP</td>\n",
       "      <td>BCC</td>\n",
       "      <td>BCC-ESM1</td>\n",
       "      <td>ssp370</td>\n",
       "      <td>r1i1p1f1</td>\n",
       "      <td>Amon</td>\n",
       "      <td>pr</td>\n",
       "      <td>gn</td>\n",
       "      <td>NaN</td>\n",
       "      <td>v20190624</td>\n",
       "      <td>201501-205512</td>\n",
       "      <td>/glade/collections/cmip/CMIP6/AerChemMIP/BCC/B...</td>\n",
       "    </tr>\n",
       "    <tr>\n",
       "      <td>2</td>\n",
       "      <td>AerChemMIP</td>\n",
       "      <td>BCC</td>\n",
       "      <td>BCC-ESM1</td>\n",
       "      <td>ssp370</td>\n",
       "      <td>r1i1p1f1</td>\n",
       "      <td>Amon</td>\n",
       "      <td>rsus</td>\n",
       "      <td>gn</td>\n",
       "      <td>NaN</td>\n",
       "      <td>v20190624</td>\n",
       "      <td>201501-205512</td>\n",
       "      <td>/glade/collections/cmip/CMIP6/AerChemMIP/BCC/B...</td>\n",
       "    </tr>\n",
       "    <tr>\n",
       "      <td>3</td>\n",
       "      <td>AerChemMIP</td>\n",
       "      <td>BCC</td>\n",
       "      <td>BCC-ESM1</td>\n",
       "      <td>ssp370</td>\n",
       "      <td>r1i1p1f1</td>\n",
       "      <td>Amon</td>\n",
       "      <td>tas</td>\n",
       "      <td>gn</td>\n",
       "      <td>NaN</td>\n",
       "      <td>v20190624</td>\n",
       "      <td>201501-205512</td>\n",
       "      <td>/glade/collections/cmip/CMIP6/AerChemMIP/BCC/B...</td>\n",
       "    </tr>\n",
       "    <tr>\n",
       "      <td>4</td>\n",
       "      <td>AerChemMIP</td>\n",
       "      <td>BCC</td>\n",
       "      <td>BCC-ESM1</td>\n",
       "      <td>ssp370</td>\n",
       "      <td>r1i1p1f1</td>\n",
       "      <td>Amon</td>\n",
       "      <td>ts</td>\n",
       "      <td>gn</td>\n",
       "      <td>NaN</td>\n",
       "      <td>v20190624</td>\n",
       "      <td>201501-205512</td>\n",
       "      <td>/glade/collections/cmip/CMIP6/AerChemMIP/BCC/B...</td>\n",
       "    </tr>\n",
       "  </tbody>\n",
       "</table>\n",
       "</div>"
      ],
      "text/plain": [
       "  activity_id institution_id source_id experiment_id member_id table_id  \\\n",
       "0  AerChemMIP            BCC  BCC-ESM1        ssp370  r1i1p1f1     Amon   \n",
       "1  AerChemMIP            BCC  BCC-ESM1        ssp370  r1i1p1f1     Amon   \n",
       "2  AerChemMIP            BCC  BCC-ESM1        ssp370  r1i1p1f1     Amon   \n",
       "3  AerChemMIP            BCC  BCC-ESM1        ssp370  r1i1p1f1     Amon   \n",
       "4  AerChemMIP            BCC  BCC-ESM1        ssp370  r1i1p1f1     Amon   \n",
       "\n",
       "  variable_id grid_label  dcpp_init_year    version     time_range  \\\n",
       "0        hfss         gn             NaN  v20190624  201501-205512   \n",
       "1          pr         gn             NaN  v20190624  201501-205512   \n",
       "2        rsus         gn             NaN  v20190624  201501-205512   \n",
       "3         tas         gn             NaN  v20190624  201501-205512   \n",
       "4          ts         gn             NaN  v20190624  201501-205512   \n",
       "\n",
       "                                                path  \n",
       "0  /glade/collections/cmip/CMIP6/AerChemMIP/BCC/B...  \n",
       "1  /glade/collections/cmip/CMIP6/AerChemMIP/BCC/B...  \n",
       "2  /glade/collections/cmip/CMIP6/AerChemMIP/BCC/B...  \n",
       "3  /glade/collections/cmip/CMIP6/AerChemMIP/BCC/B...  \n",
       "4  /glade/collections/cmip/CMIP6/AerChemMIP/BCC/B...  "
      ]
     },
     "execution_count": 3,
     "metadata": {},
     "output_type": "execute_result"
    }
   ],
   "source": [
    "catalog = intake.open_esm_datastore(\"/glade/collections/cmip/catalog/intake-esm-datastore/catalogs/glade-cmip6.json\")\n",
    "catalog.df.head()"
   ]
  },
  {
   "cell_type": "code",
   "execution_count": 4,
   "metadata": {},
   "outputs": [],
   "source": [
    "test_sr = catalog.search(experiment_id=['historical'], variable_id='co2')"
   ]
  },
  {
   "cell_type": "code",
   "execution_count": 5,
   "metadata": {},
   "outputs": [
    {
     "data": {
      "text/plain": [
       "{'source_id': {'count': 10,\n",
       "  'values': ['BCC-CSM2-MR',\n",
       "   'BCC-ESM1',\n",
       "   'CNRM-ESM2-1',\n",
       "   'MIROC-ES2L',\n",
       "   'MRI-ESM2-0',\n",
       "   'CESM2-FV2',\n",
       "   'CESM2-WACCM-FV2',\n",
       "   'CESM2-WACCM',\n",
       "   'CESM2',\n",
       "   'GFDL-ESM4']}}"
      ]
     },
     "execution_count": 5,
     "metadata": {},
     "output_type": "execute_result"
    }
   ],
   "source": [
    "test_sr.unique('source_id')"
   ]
  },
  {
   "cell_type": "code",
   "execution_count": null,
   "metadata": {},
   "outputs": [],
   "source": [
    "#don't really understand this output\n",
    "test_sr.unique('member_id')"
   ]
  },
  {
   "cell_type": "markdown",
   "metadata": {},
   "source": [
    "### Reading catalog to load CO2 values for CMIP6 models\n",
    "Multiple configurations of BCC and CESM available. Choosing one narrows models to 4.\n",
    "Difficult to tell how many models have multiple ensemble members, so only using first member"
   ]
  },
  {
   "cell_type": "code",
   "execution_count": 6,
   "metadata": {},
   "outputs": [],
   "source": [
    "table_id = 'Amon'\n",
    "var = 'co2'\n",
    "# note that there are different numbers of model output available depending on options used for source_id and member_id\n",
    "# should I consider using multiple ensemble members per model? multiple model configurations per model?\n",
    "#member_id = [\"r1i1p1f1\",\"r2i1p1f1\",\"r3i1p1f1\",\"r4i1p1f1\",\"r5i1p1f1\",\"r6i1p1f1\"]\n",
    "# note that MIROC doesn't show up here because it's member_id = r1i2p1f1. Not sure why this is numbered differently\n",
    "cat = catalog.search(experiment_id=['historical'], variable_id=var,\n",
    "#                        source_id=test_sr.unique('source_id')['source_id']['values'], \n",
    "                        source_id=['CESM2','BCC-ESM1','BCC-CSM2-MR','MRI-ESM2-0','GFDL-ESM4'], \n",
    "#                        table_id=table_id, member_id =member_id)\n",
    "                        table_id=table_id, member_id =\"r1i1p1f1\")"
   ]
  },
  {
   "cell_type": "code",
   "execution_count": 7,
   "metadata": {},
   "outputs": [
    {
     "data": {
      "text/plain": [
       "['BCC-CSM2-MR', 'BCC-ESM1', 'MRI-ESM2-0', 'CESM2', 'GFDL-ESM4']"
      ]
     },
     "execution_count": 7,
     "metadata": {},
     "output_type": "execute_result"
    }
   ],
   "source": [
    "cat.unique('source_id')['source_id']['values']"
   ]
  },
  {
   "cell_type": "code",
   "execution_count": 8,
   "metadata": {},
   "outputs": [
    {
     "data": {
      "text/plain": [
       "['r1i1p1f1']"
      ]
     },
     "execution_count": 8,
     "metadata": {},
     "output_type": "execute_result"
    }
   ],
   "source": [
    "cat.unique('member_id')['member_id']['values']"
   ]
  },
  {
   "cell_type": "code",
   "execution_count": 9,
   "metadata": {},
   "outputs": [
    {
     "data": {
      "text/plain": [
       "{'grid_label': {'count': 2, 'values': ['gn', 'gr1']}}"
      ]
     },
     "execution_count": 9,
     "metadata": {},
     "output_type": "execute_result"
    }
   ],
   "source": [
    "cat.unique('grid_label')"
   ]
  },
  {
   "cell_type": "markdown",
   "metadata": {},
   "source": [
    "### Converting data to dictionary"
   ]
  },
  {
   "cell_type": "code",
   "execution_count": 10,
   "metadata": {},
   "outputs": [
    {
     "name": "stdout",
     "output_type": "stream",
     "text": [
      "\n",
      "xarray will load netCDF datasets with dask using a single chunk for all arrays.\n",
      "For effective chunking, please provide chunks in cdf_kwargs.\n",
      "For example: cdf_kwargs={'chunks': {'time': 36}}\n",
      "\n",
      "--> The keys in the returned dictionary of datasets are constructed as follows:\n",
      "\t'activity_id.institution_id.source_id.experiment_id.table_id.grid_label'\n",
      "\n",
      "--> There will be 5 group(s)\n"
     ]
    }
   ],
   "source": [
    "co2_ds = cat.to_dataset_dict()"
   ]
  },
  {
   "cell_type": "code",
   "execution_count": 11,
   "metadata": {},
   "outputs": [
    {
     "data": {
      "text/plain": [
       "dict_keys(['CMIP.BCC.BCC-CSM2-MR.historical.Amon.gn', 'CMIP.BCC.BCC-ESM1.historical.Amon.gn', 'CMIP.MRI.MRI-ESM2-0.historical.Amon.gn', 'CMIP.NCAR.CESM2.historical.Amon.gn', 'CMIP.NOAA-GFDL.GFDL-ESM4.historical.Amon.gr1'])"
      ]
     },
     "execution_count": 11,
     "metadata": {},
     "output_type": "execute_result"
    }
   ],
   "source": [
    "co2_ds.keys()"
   ]
  },
  {
   "cell_type": "markdown",
   "metadata": {},
   "source": [
    "### Get the fixed variables output, only available for historical simulations (gridcell area, landfrac)\n"
   ]
  },
  {
   "cell_type": "code",
   "execution_count": null,
   "metadata": {},
   "outputs": [],
   "source": [
    "sr_fx_ctrl_vars = catalog.search(table_id = ['fx'], source_id = cat.unique('source_id')['source_id']['values'], \n",
    "                                 member_id = cat.unique('member_id')['member_id']['values'], \n",
    "                                 experiment_id = 'historical', variable_id = ['areacella', 'sftlf'])"
   ]
  },
  {
   "cell_type": "code",
   "execution_count": null,
   "metadata": {},
   "outputs": [],
   "source": [
    "sr_fx_ctrl_vars.unique('grid_label')"
   ]
  },
  {
   "cell_type": "code",
   "execution_count": null,
   "metadata": {},
   "outputs": [],
   "source": [
    "fx_ds = sr_fx_ctrl_vars.to_dataset_dict()"
   ]
  },
  {
   "cell_type": "code",
   "execution_count": null,
   "metadata": {},
   "outputs": [],
   "source": [
    "#what happened to BCC? Doesn't seem to have fx (also checked /glade/collections/cmip/CMIP6/CMIP/BCC and online archive)\n",
    "fx_ds.keys()"
   ]
  },
  {
   "cell_type": "markdown",
   "metadata": {},
   "source": [
    "###   \n",
    "### Starting data analysis\n",
    "###   "
   ]
  },
  {
   "cell_type": "code",
   "execution_count": null,
   "metadata": {},
   "outputs": [],
   "source": []
  },
  {
   "cell_type": "code",
   "execution_count": null,
   "metadata": {},
   "outputs": [],
   "source": []
  },
  {
   "cell_type": "code",
   "execution_count": 12,
   "metadata": {},
   "outputs": [
    {
     "name": "stdout",
     "output_type": "stream",
     "text": [
      "<xarray.Dataset>\n",
      "Dimensions:    (bnds: 2, lat: 160, lon: 320, member_id: 1, plev: 19, time: 165)\n",
      "Coordinates:\n",
      "  * time       (time) object 1850-12-31 00:00:00 ... 2014-12-31 00:00:00\n",
      "    lon_bnds   (lon, bnds) float64 -0.5625 0.5625 0.5625 ... 358.3 358.3 359.4\n",
      "    lat_bnds   (lat, bnds) float64 -90.0 -88.59 -88.59 ... 88.59 88.59 90.0\n",
      "  * member_id  (member_id) <U8 'r1i1p1f1'\n",
      "  * plev       (plev) float64 1e+05 9.25e+04 8.5e+04 7e+04 ... 1e+03 500.0 100.0\n",
      "  * lat        (lat) float64 -89.14 -88.03 -86.91 -85.79 ... 86.91 88.03 89.14\n",
      "  * lon        (lon) float64 0.0 1.125 2.25 3.375 ... 355.5 356.6 357.8 358.9\n",
      "Dimensions without coordinates: bnds\n",
      "Data variables:\n",
      "    co2        (time, member_id, plev, lat, lon) float32 dask.array<chunksize=(1, 1, 19, 160, 320), meta=np.ndarray>\n",
      "<xarray.Dataset>\n",
      "Dimensions:    (bnds: 2, lat: 64, lon: 128, member_id: 1, plev: 19, time: 165)\n",
      "Coordinates:\n",
      "  * time       (time) object 1850-12-31 00:00:00 ... 2014-12-31 00:00:00\n",
      "    lon_bnds   (lon, bnds) float64 -1.406 1.406 1.406 ... 355.8 355.8 358.6\n",
      "    lat_bnds   (lat, bnds) float64 -90.0 -86.48 -86.48 ... 86.48 86.48 90.0\n",
      "  * member_id  (member_id) <U8 'r1i1p1f1'\n",
      "  * plev       (plev) float64 1e+05 9.25e+04 8.5e+04 7e+04 ... 1e+03 500.0 100.0\n",
      "  * lat        (lat) float64 -87.86 -85.1 -82.31 -79.53 ... 82.31 85.1 87.86\n",
      "  * lon        (lon) float64 0.0 2.812 5.625 8.438 ... 348.8 351.6 354.4 357.2\n",
      "Dimensions without coordinates: bnds\n",
      "Data variables:\n",
      "    co2        (time, member_id, plev, lat, lon) float32 dask.array<chunksize=(1, 1, 19, 64, 128), meta=np.ndarray>\n",
      "<xarray.Dataset>\n",
      "Dimensions:    (bnds: 2, lat: 64, lon: 128, member_id: 1, plev: 19, time: 165)\n",
      "Coordinates:\n",
      "  * time       (time) datetime64[ns] 1850-12-31 1851-12-31 ... 2014-12-31\n",
      "    lon_bnds   (lon, bnds) float64 -1.406 1.406 1.406 ... 355.8 355.8 358.6\n",
      "    lat_bnds   (lat, bnds) float64 -90.0 -86.48 -86.48 ... 86.48 86.48 90.0\n",
      "  * member_id  (member_id) <U8 'r1i1p1f1'\n",
      "  * plev       (plev) float64 1e+05 9.25e+04 8.5e+04 7e+04 ... 1e+03 500.0 100.0\n",
      "  * lat        (lat) float64 -87.86 -85.1 -82.31 -79.53 ... 82.31 85.1 87.86\n",
      "  * lon        (lon) float64 0.0 2.812 5.625 8.438 ... 348.8 351.6 354.4 357.2\n",
      "Dimensions without coordinates: bnds\n",
      "Data variables:\n",
      "    co2        (time, member_id, plev, lat, lon) float32 dask.array<chunksize=(1, 1, 19, 64, 128), meta=np.ndarray>\n",
      "<xarray.Dataset>\n",
      "Dimensions:    (lat: 192, lon: 288, member_id: 1, nbnd: 2, plev: 19, time: 165)\n",
      "Coordinates:\n",
      "  * time       (time) object 1850-12-31 00:00:00 ... 2014-12-31 00:00:00\n",
      "    lon_bnds   (lon, nbnd) float64 -0.625 0.625 0.625 ... 358.1 358.1 359.4\n",
      "    lat_bnds   (lat, nbnd) float64 -90.0 -89.53 -89.53 ... 89.53 89.53 90.0\n",
      "  * member_id  (member_id) <U8 'r1i1p1f1'\n",
      "  * plev       (plev) float64 1e+05 9.25e+04 8.5e+04 7e+04 ... 1e+03 500.0 100.0\n",
      "  * lat        (lat) float64 -90.0 -89.06 -88.12 -87.17 ... 88.12 89.06 90.0\n",
      "  * lon        (lon) float64 0.0 1.25 2.5 3.75 5.0 ... 355.0 356.2 357.5 358.8\n",
      "Dimensions without coordinates: nbnd\n",
      "Data variables:\n",
      "    co2        (time, member_id, plev, lat, lon) float32 dask.array<chunksize=(1, 1, 19, 192, 288), meta=np.ndarray>\n",
      "<xarray.Dataset>\n",
      "Dimensions:    (bnds: 2, lat: 180, lon: 288, member_id: 1, plev: 19, time: 165)\n",
      "Coordinates:\n",
      "  * time       (time) object 1850-12-31 00:00:00 ... 2014-12-31 00:00:00\n",
      "    lon_bnds   (lon, bnds) float64 0.0 1.25 1.25 2.5 ... 357.5 358.8 358.8 360.0\n",
      "    lat_bnds   (lat, bnds) float64 -90.0 -89.0 -89.0 -88.0 ... 89.0 89.0 90.0\n",
      "  * member_id  (member_id) <U8 'r1i1p1f1'\n",
      "  * plev       (plev) float64 1e+05 9.25e+04 8.5e+04 7e+04 ... 1e+03 500.0 100.0\n",
      "  * lat        (lat) float64 -89.5 -88.5 -87.5 -86.5 ... 86.5 87.5 88.5 89.5\n",
      "  * bnds       (bnds) float64 1.0 2.0\n",
      "  * lon        (lon) float64 0.625 1.875 3.125 4.375 ... 355.6 356.9 358.1 359.4\n",
      "Data variables:\n",
      "    co2        (time, member_id, plev, lat, lon) float32 dask.array<chunksize=(1, 1, 19, 180, 288), meta=np.ndarray>\n"
     ]
    }
   ],
   "source": [
    "for sim_name, data in co2_ds.items():\n",
    "# set_coords based on M. Long's suggestion so that subtraction not applied to coordinate variables\n",
    "# works on on datasets, but not on the dictionary.\n",
    "    data    = data.set_coords(['time_bnds', 'lat_bnds', 'lon_bnds'])\n",
    "#    datamax = data.resample(time=\"Y\").max()\n",
    "#    datamin = data.resample(time=\"Y\").min()\n",
    "#    co2amp  = datamax.co2 - datamin.co2\n",
    "    co2amp  = data.resample(time=\"Y\").max() - data.resample(time=\"Y\").min()\n",
    "    print(co2amp)\n",
    "    co2_ds[sim_name] = co2amp"
   ]
  },
  {
   "cell_type": "code",
   "execution_count": null,
   "metadata": {},
   "outputs": [],
   "source": [
    "# Note: This doesn't work due to calendar mismatches.\n",
    "# See example here for reading in a dataset: https://geocat-examples.readthedocs.io/en/latest/gallery/XY/NCL_xy_18.html#sphx-glr-gallery-xy-ncl-xy-18-py\n",
    "# Not sure how to do this for reading in a dictionary\n",
    "\n",
    "#for amp_name, amp in co2_ds.items():\n",
    "#    amp_stnd = amp.sel(time=slice('1850','2014')) - amp.sel(time=slice('1850'))"
   ]
  },
  {
   "cell_type": "code",
   "execution_count": 13,
   "metadata": {},
   "outputs": [],
   "source": [
    "#From Matt Long:\n",
    "def infer_lat_name(ds): \n",
    "    lat_names = ['latitude', 'lat']\n",
    "    for n in lat_names:\n",
    "        if n in ds:\n",
    "            return n\n",
    "    raise ValueError('could not determine lat name')    \n",
    "\n",
    "\n",
    "def infer_lon_name(ds):\n",
    "    lon_names = ['longitude', 'lon']\n",
    "    for n in lon_names:\n",
    "        if n in ds:\n",
    "            return n\n",
    "    raise ValueError('could not determine lon name')"
   ]
  },
  {
   "cell_type": "code",
   "execution_count": 15,
   "metadata": {},
   "outputs": [],
   "source": [
    "#Also from Matt Long:\n",
    "def lat_weights_regular_grid(lat):\n",
    "    \"\"\"\n",
    "    Generate latitude weights for equally spaced (regular) global grids.\n",
    "    Weights are computed as sin(lat+dlat/2)-sin(lat-dlat/2) and sum to 2.0.\n",
    "    \"\"\"  \n",
    "    dlat = np.abs(np.diff(lat))\n",
    "    np.testing.assert_almost_equal(dlat, dlat[0])\n",
    "    w = np.abs(np.sin(np.radians(lat + dlat[0] / 2.)) - np.sin(np.radians(lat - dlat[0] / 2.)))\n",
    "\n",
    "    if np.abs(lat[0]) > 89.9999:\n",
    "        w[0] = np.abs(1. - np.sin(np.radians(np.pi / 2 - dlat[0])))\n",
    "\n",
    "    if np.abs(lat[-1]) > 89.9999:\n",
    "        w[-1] = np.abs(1. - np.sin(np.radians(np.pi / 2 - dlat[0])))\n",
    "\n",
    "    return w"
   ]
  },
  {
   "cell_type": "code",
   "execution_count": 16,
   "metadata": {},
   "outputs": [],
   "source": [
    "#Also from Matt Long:\n",
    "def compute_grid_area(ds, check_total=True):\n",
    "    \"\"\"Compute the area of grid cells.\"\"\"\n",
    "   \n",
    "    radius_earth = 6.37122e6 # m, radius of Earth\n",
    "    area_earth = 4.0 * np.pi * radius_earth**2 # area of earth [m^2]e\n",
    "   \n",
    "    lon_name = infer_lon_name(ds)      \n",
    "    lat_name = infer_lat_name(ds)        \n",
    "   \n",
    "    weights = lat_weights_regular_grid(ds[lat_name])\n",
    "    area = weights + 0.0 * ds[lon_name] # add 'lon' dimension\n",
    "    area = (area_earth / area.sum(dim=(lat_name, lon_name))) * area\n",
    "   \n",
    "    if check_total:\n",
    "        np.testing.assert_approx_equal(np.sum(area), area_earth)\n",
    "       \n",
    "    return xr.DataArray(area, dims=(lat_name, lon_name), attrs={'units': 'm^2', 'long_name': 'area'})"
   ]
  },
  {
   "cell_type": "code",
   "execution_count": null,
   "metadata": {},
   "outputs": [],
   "source": []
  },
  {
   "cell_type": "code",
   "execution_count": null,
   "metadata": {},
   "outputs": [],
   "source": []
  },
  {
   "cell_type": "code",
   "execution_count": null,
   "metadata": {},
   "outputs": [],
   "source": []
  },
  {
   "cell_type": "markdown",
   "metadata": {},
   "source": [
    "### To Do next\n",
    " - atm level for CO2 (looks like all are standardized at 19 levels)\n",
    " - decide what region (point, global, NH) to get data for, and figure out how to do the appropriate weighting\n",
    "     - note: if just choosing 30N, perhaps the lat/lon weighting Katie tried is enough -- I don't need the fx vars\n",
    " - what kind of figure to make? Annual cycle? or just a value?\n",
    " Maybe start with plotting annual cycle for all CMIP6 models N of 30N"
   ]
  },
  {
   "cell_type": "code",
   "execution_count": null,
   "metadata": {},
   "outputs": [],
   "source": []
  },
  {
   "cell_type": "code",
   "execution_count": null,
   "metadata": {},
   "outputs": [],
   "source": []
  },
  {
   "cell_type": "code",
   "execution_count": null,
   "metadata": {},
   "outputs": [],
   "source": [
    "val  = co2_ds.get('CMIP.MRI.MRI-ESM2-0.historical.fx.gn')\n",
    "print(val)"
   ]
  },
  {
   "cell_type": "code",
   "execution_count": null,
   "metadata": {},
   "outputs": [],
   "source": []
  }
 ],
 "metadata": {
  "kernelspec": {
   "display_name": "CMIP6 2019.10a",
   "language": "python",
   "name": "cmip6-201910a"
  },
  "language_info": {
   "codemirror_mode": {
    "name": "ipython",
    "version": 3
   },
   "file_extension": ".py",
   "mimetype": "text/x-python",
   "name": "python",
   "nbconvert_exporter": "python",
   "pygments_lexer": "ipython3",
   "version": "3.7.3"
  }
 },
 "nbformat": 4,
 "nbformat_minor": 4
}
