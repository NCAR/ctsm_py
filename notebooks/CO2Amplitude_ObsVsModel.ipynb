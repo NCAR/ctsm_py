{
 "cells": [
  {
   "cell_type": "code",
   "execution_count": 1,
   "metadata": {},
   "outputs": [
    {
     "name": "stderr",
     "output_type": "stream",
     "text": [
      "/glade/u/home/dll/miniconda/envs/analysis/lib/python3.7/site-packages/xarray/core/merge.py:17: FutureWarning: The Panel class is removed from pandas. Accessing it from the top-level namespace will also be removed in the next version\n",
      "  PANDAS_TYPES = (pd.Series, pd.DataFrame, pd.Panel)\n"
     ]
    }
   ],
   "source": [
    "import numpy as np\n",
    "import xarray as xr\n",
    "import matplotlib.pyplot as plt\n",
    "import co2_timeseries_tools as co2tt\n",
    "from scipy import stats\n",
    "from ctsm_py import utils"
   ]
  },
  {
   "cell_type": "markdown",
   "metadata": {},
   "source": [
    "# Observational Data"
   ]
  },
  {
   "cell_type": "markdown",
   "metadata": {},
   "source": [
    "Add additional observed data as text files, then add to ESRL list"
   ]
  },
  {
   "cell_type": "code",
   "execution_count": 2,
   "metadata": {},
   "outputs": [],
   "source": [
    "path='/glade/work/dll/CTSM_py/notebooks/'\n",
    "brw={'name':'Barrow', 'acronym': 'brw',  'lat': 71.3, 'lon':360-156.61, 'z': 11.0}\n",
    "mlo={'name':'Mauna Loa', 'acronym': 'mlo', 'lat': 19.5, 'lon':360-155.6, 'z':3397.0}\n",
    "alt={'name':'Alert', 'acronym': 'alt', 'lat': 82.5, 'lon':360-62.5, 'z':200.0}\n",
    "azr={'name': 'Azores', 'acronym':'azr','lat':38.8, 'lon':360-27.4, 'z':19.0}\n",
    "cba={'name': 'Cold Bay', 'acronym':'cba', 'lat':55.2, 'lon':360-162.7, 'z':21.3}\n",
    "kum={'name':'Kumukahi', 'acronym':'kum', 'lat':19.7, 'lon':360-155.0, 'z':0.3}\n",
    "ESRL=[brw, mlo, alt, azr, cba, kum]\n",
    "lats=np.array([71.3,19.5,82.5,38.8,55.2,19.7])\n",
    "lons=np.array([360-156.61,360-155.6,360-62.5,360-27.4,360-162.7,360-155.0])\n",
    "#note that the 'lev' variable only goes from 0 to 1000, not sure how to translate from 'alt' to 'lev'\n",
    "alt=np.array([11.0,3397.0,200.0,19.0,21.3,0.3])"
   ]
  },
  {
   "cell_type": "markdown",
   "metadata": {},
   "source": [
    "Looping over all sites to read in file"
   ]
  },
  {
   "cell_type": "code",
   "execution_count": 3,
   "metadata": {},
   "outputs": [],
   "source": [
    "for site in ESRL:\n",
    "#    print(site)\n",
    "    filename=path+'co2_'+site['acronym']+'_surface-flask_1_ccgg_month.txt'\n",
    "    #import glob\n",
    "    #filename=glob.glob(partialname+ '*co2')\n",
    "    with open(filename, 'r') as fid:\n",
    "        first_line=fid.readline()\n",
    "        nheader=first_line[-3:-1]\n",
    "        nheader=np.int(np.float(nheader))\n",
    "    data=np.loadtxt(filename, usecols=(1,2,3), skiprows=nheader)\n",
    "    time=data[:,0]+data[:,1]/12\n",
    "    co2=data[:,2]\n",
    "    month=data[:,1]\n",
    "    year=data[:,0]\n",
    "    site['year']=year\n",
    "    site['month']=month\n",
    "    site['co2']=co2\n",
    "    \n"
   ]
  },
  {
   "cell_type": "code",
   "execution_count": 4,
   "metadata": {},
   "outputs": [
    {
     "data": {
      "image/png": "[encoded data removed]",
      "text/plain": [
       "<Figure size 432x288 with 1 Axes>"
      ]
     },
     "metadata": {
      "needs_background": "light"
     },
     "output_type": "display_data"
    }
   ],
   "source": [
    "#Full timeseries\n",
    "# will only plot last site in ESRL\n",
    "# update to plot each site (?)\n",
    "for site in ESRL:\n",
    "    plt.plot(year+month/12.0, co2, 'k')\n",
    "    plt.ylabel(r'CO$_2$ [ppm]')\n",
    "    plt.xlabel('Year')\n",
    "    plt.ylim(315,420)\n",
    "    plt.xlim(1970,2020)\n",
    "#    plt.savefig('BRWTimeseries.eps')"
   ]
  },
  {
   "cell_type": "markdown",
   "metadata": {},
   "source": [
    "Plotting detrended annual cycle using Gretchen's functions.\n",
    "Only plotting last site in ESRL. Iterate (?) to loop over and plot all sites"
   ]
  },
  {
   "cell_type": "code",
   "execution_count": 5,
   "metadata": {},
   "outputs": [],
   "source": [
    "#EARLY PLOTS -- define early part of record\n",
    "for site in ESRL:\n",
    "    j=np.where(year<1980)\n",
    "    early_co2detrend=co2tt.poly3detrend(year[j], month[j], co2[j])\n",
    "    early_co2mm=co2tt.compute_mm(month[j], early_co2detrend)"
   ]
  },
  {
   "cell_type": "code",
   "execution_count": 6,
   "metadata": {},
   "outputs": [
    {
     "data": {
      "text/plain": [
       "[<matplotlib.lines.Line2D at 0x2ad5314c9f60>]"
      ]
     },
     "execution_count": 6,
     "metadata": {},
     "output_type": "execute_result"
    },
    {
     "data": {
      "image/png": "[encoded data removed]",
      "text/plain": [
       "<Figure size 252x216 with 1 Axes>"
      ]
     },
     "metadata": {
      "needs_background": "light"
     },
     "output_type": "display_data"
    }
   ],
   "source": [
    "# Late PLOTS -- define late part of record\n",
    "for site in ESRL:\n",
    "    j=np.where(year>2010)\n",
    "    late_co2detrend=co2tt.poly3detrend(year[j], month[j], co2[j])\n",
    "    late_co2mm=co2tt.compute_mm(month[j], late_co2detrend)\n",
    "#save late_* so that all sites are saved\n",
    "    \n",
    "plot_early=np.hstack([np.transpose(early_co2mm[10:12]), np.transpose(early_co2mm), np.transpose(early_co2mm[0:2])])\n",
    "plot_late=np.hstack([np.transpose(late_co2mm[10:12]), np.transpose(late_co2mm), np.transpose(late_co2mm[0:2])])\n",
    "plt.figure(1, figsize=(3.5,3))\n",
    "#plt.plot(np.arange(0,16), plot_early, 'b')\n",
    "plt.plot(np.arange(0,16), plot_late, 'k') ### Note that I pre-pend and append extra months to the figure\n",
    "xticklab=(['N', 'D', 'J', 'F', 'M','A', 'M', 'J', 'J', 'A', 'S', 'O', 'N', 'D', 'J', 'F'])\n",
    "ax=plt.gca()\n",
    "ax.set_xticks(np.arange(0,16))\n",
    "ax.set_xticklabels(xticklab)\n",
    "plt.ylabel(r'CO$_2$ [ppm]')\n",
    "plt.xlabel('Month')\n",
    "plt.xlim([0,15])\n",
    "plt.ylim([-14,7])\n",
    "ax.set_yticks(np.arange(-12,9,3))\n",
    "plt.plot(plot_early)\n",
    "#plt.plot(plot_late)\n",
    "#plt.savefig('BRW_early_late.eps')\n",
    "\n"
   ]
  },
  {
   "cell_type": "code",
   "execution_count": 7,
   "metadata": {},
   "outputs": [
    {
     "name": "stdout",
     "output_type": "stream",
     "text": [
      "[-1.4742359  -0.65566553  0.38979634  1.40082286  2.0008669   3.02440545\n",
      "  3.94036294  2.69903095 -0.31679756 -2.92933089 -4.24077654 -3.39084224\n",
      " -1.4742359  -0.65566553  0.38979634  1.40082286]\n"
     ]
    }
   ],
   "source": [
    "#from Will:\n",
    "print(plot_early)\n",
    "\n",
    "#plt.figure(figsize=[15,4], sharexy=True)\n",
    "#for i in ESRL:\n",
    "#    plt.subplot(2, 3, (1+i))\n",
    "#    plot_early=np.hstack([np.transpose(early_co2mm[10:12]), np.transpose(early_co2mm), np.transpose(early_co2mm[0:2])])\n",
    "#    plot_late=np.hstack([np.transpose(late_co2mm[10:12]), np.transpose(late_co2mm), np.transpose(late_co2mm[0:2])])\n",
    "#    plt.plot(np.arange(0,16), plot_late, 'k') ### Note that I pre-pend and append extra months to the figure\n",
    "#    xticklab=(['N', 'D', 'J', 'F', 'M','A', 'M', 'J', 'J', 'A', 'S', 'O', 'N', 'D', 'J', 'F'])\n",
    "#    ax=plt.gca()\n",
    "#    ax.set_xticks(np.arange(0,16))\n",
    "#    ax.set_xticklabels(xticklab)\n",
    "#    plt.ylabel(r'CO$_2$ [ppm]')\n",
    "#    plt.xlabel('Month')\n",
    "#    plt.xlim([0,15])\n",
    "#    plt.ylim([-14,7])\n",
    "#    ax.set_yticks(np.arange(-12,9,3))\n",
    "#    plt.plot(plot_early[i])\n",
    "    \n",
    "#    late_co2mm.vectors.isel(sv=i).sel(lat=tlat, lon=tlon, method='nearest').plot(color=col[i])\n",
    "#    plt.legend(labels=labels);\n",
    "#    plt.title('SVD tlat='+str(tlat)+' tlon='+str(tlon))\n",
    "#    plt.ticklabel_format(axis='y', style='', scilimits=(-2,2))\n",
    "#    plt.plot(plot_late.time, anom[var[i]])\n"
   ]
  },
  {
   "cell_type": "markdown",
   "metadata": {},
   "source": [
    "# Model Data\n",
    "Code converted from ~/AmplitudeAnalysis/CESM_CO2AmpTrend_Regions_Altitude_withNoFert.ncl"
   ]
  },
  {
   "cell_type": "markdown",
   "metadata": {},
   "source": [
    "Defining directories and simulation names"
   ]
  },
  {
   "cell_type": "code",
   "execution_count": 8,
   "metadata": {},
   "outputs": [],
   "source": [
    "simyrs             = \"185001-201412\"\n",
    "var                = \"CO2\"\n",
    "\n",
    "datadir            = \"/glade/p/cesm/lmwg_dev/dll/\"\n",
    "subdir             = \"/atm/proc/tseries/month_1/\"\n",
    "Mod1dir            = \"CESM2_Coupled_NoCrop/\"\n",
    "Mod2dir            = \"CESM2_Coupled_NoFert/\"\n",
    "\n",
    "sim                = \"b.e21.BHIST_BPRP.f09_g17.CMIP6-esm-hist.001\"\n",
    "sim2               = \"b40.20th.1deg.coup.001\"\n",
    "sim3               = \"b.e21.BHIST_BPRP.f09_g17.CMIP6-esm-hist.002_NoCropSpin_Transient1970-2014\"\n",
    "sim4               = \"b.e21.BHIST_BPRP.f09_g17.CMIP6-esm-hist.002_NoFert_Transient1970-2014\""
   ]
  },
  {
   "cell_type": "markdown",
   "metadata": {},
   "source": [
    "Reading in simulations"
   ]
  },
  {
   "cell_type": "code",
   "execution_count": 9,
   "metadata": {},
   "outputs": [],
   "source": [
    "data1          = utils.time_set_mid(xr.open_dataset(datadir+Mod1dir+sim+\".cam.h0.\"+var+\".\"+simyrs+\".nc\", decode_times=True), 'time')\n",
    "data2          = utils.time_set_mid(xr.open_dataset(datadir+Mod1dir+sim2+\".cam2.h0.\"+var+\".185001-200512.nc\", decode_times=True), 'time')\n",
    "data3          = utils.time_set_mid(xr.open_dataset(datadir+Mod1dir+subdir+sim3+\".cam.h0.\"+var+\".197001-201412.nc\", decode_times=True), 'time')\n",
    "data4          = utils.time_set_mid(xr.open_dataset(datadir+Mod2dir+subdir+sim4+\".cam.h0.\"+var+\".197001-201412.nc\", decode_times=True), 'time')"
   ]
  },
  {
   "cell_type": "markdown",
   "metadata": {},
   "source": [
    "Concatenating data variables into a dictionary"
   ]
  },
  {
   "cell_type": "code",
   "execution_count": 10,
   "metadata": {},
   "outputs": [],
   "source": [
    "sims = dict()\n",
    "sims['CESM2']           = data1.CO2\n",
    "sims['CESM1']           = data2.CO2\n",
    "sims['nocrop']          = data3.CO2\n",
    "sims['nofert']          = data4.CO2\n",
    "\n",
    "simtitles = ['CESM2','CESM1','CESM2 Generic Crop','CESM2 No Fertilization']"
   ]
  },
  {
   "cell_type": "markdown",
   "metadata": {},
   "source": [
    "Reading in area data"
   ]
  },
  {
   "cell_type": "code",
   "execution_count": null,
   "metadata": {
    "jupyter": {
     "source_hidden": true
    }
   },
   "outputs": [],
   "source": [
    "#collectionsdir = \"/glade/collections/cdg/data/CMIP6/CMIP/NCAR/\"\n",
    "#model          = \"CESM2\"\n",
    "#simtype        = \"historical\"\n",
    "#varsn          = \"gn\"\n",
    "#latest         = \"latest\"\n",
    "#ensmem         = \"r1i1p1f1\"\n",
    "\n",
    "#areadir    = (collectionsdir+model+\"/\"+simtype+\"/\"+ensmem+\"/fx/\")\n",
    "#areavar    = \"areacella\"\n",
    "#fracvar    = \"sftlf\""
   ]
  },
  {
   "cell_type": "code",
   "execution_count": null,
   "metadata": {
    "jupyter": {
     "source_hidden": true
    }
   },
   "outputs": [],
   "source": [
    "#areadata   = xr.open_dataset(areadir+areavar+\"/\"+varsn+\"/\"+latest+\"/areacella_fx_CESM2_historical_r1i1p1f1_gn.nc\")\n",
    "#fracdata   = xr.open_dataset(areadir+fracvar+\"/\"+varsn+\"/\"+latest+\"/sftlf_fx_CESM2_historical_r1i1p1f1_gn.nc\")"
   ]
  },
  {
   "cell_type": "code",
   "execution_count": null,
   "metadata": {
    "jupyter": {
     "source_hidden": true
    }
   },
   "outputs": [],
   "source": [
    "#area = areadata.areacella\n",
    "#frac = fracdata.sftlf"
   ]
  },
  {
   "cell_type": "markdown",
   "metadata": {},
   "source": [
    "### Conversions"
   ]
  },
  {
   "cell_type": "code",
   "execution_count": null,
   "metadata": {
    "jupyter": {
     "source_hidden": true
    }
   },
   "outputs": [],
   "source": [
    "#import metpy as metpy\n",
    "#from metpy.units import units"
   ]
  },
  {
   "cell_type": "code",
   "execution_count": 11,
   "metadata": {},
   "outputs": [],
   "source": [
    "convert = 1.0**6 * 28.966/44.0\n",
    "\n",
    "#landarea       = area*1.0**6*frac\n",
    "#landarea.attrs['units']   = 'm^2'"
   ]
  },
  {
   "cell_type": "code",
   "execution_count": null,
   "metadata": {
    "jupyter": {
     "source_hidden": true
    }
   },
   "outputs": [],
   "source": [
    "#print(sims)"
   ]
  },
  {
   "cell_type": "code",
   "execution_count": null,
   "metadata": {
    "jupyter": {
     "source_hidden": true
    }
   },
   "outputs": [],
   "source": [
    "#%%time\n",
    "#cesm2_kg = data1.CO2"
   ]
  },
  {
   "cell_type": "code",
   "execution_count": null,
   "metadata": {
    "jupyter": {
     "source_hidden": true
    }
   },
   "outputs": [],
   "source": [
    "#print(type(convert))\n",
    "#print(type(cesm2_kg))"
   ]
  },
  {
   "cell_type": "code",
   "execution_count": null,
   "metadata": {
    "jupyter": {
     "source_hidden": true
    }
   },
   "outputs": [],
   "source": [
    "#%%time\n",
    "#cesm2_ppm = cesm2_kg*convert\n",
    "#cesm2_ppm = cesm2_kg.sel(lev=slice(31))*convert"
   ]
  },
  {
   "cell_type": "code",
   "execution_count": null,
   "metadata": {
    "jupyter": {
     "source_hidden": true
    }
   },
   "outputs": [],
   "source": [
    "%%time\n",
    "#keys_list = list(sims)\n",
    "#cesm2 = keys_list[0]\n",
    "\n",
    "#cesm2 = data1.CO2 * convert\n",
    "#cesm1 = data2.CO2 * convert\n",
    "#nocrop = data3.CO2 * convert\n",
    "#nofert = data4.CO2 * convert\n",
    "\n",
    "\n",
    "\n",
    "#sims_ppm = sims.values() * convert\n",
    "\n",
    "#for sims, n in sims.items():\n",
    "#    sims_ppm = n * convert"
   ]
  },
  {
   "cell_type": "code",
   "execution_count": null,
   "metadata": {
    "jupyter": {
     "source_hidden": true
    }
   },
   "outputs": [],
   "source": [
    "#testing out slices\n",
    "#sims.keys()\n",
    "#cesm2_kg  = sims['CESM2']\n",
    "#cesm2slice  = cesm2_kg.sel(time=slice('1970','2014'))"
   ]
  },
  {
   "cell_type": "code",
   "execution_count": 12,
   "metadata": {},
   "outputs": [
    {
     "name": "stdout",
     "output_type": "stream",
     "text": [
      "CPU times: user 53.1 s, sys: 1min 50s, total: 2min 43s\n",
      "Wall time: 7min 9s\n"
     ]
    }
   ],
   "source": [
    "%%time\n",
    "#This was taking a long time (computer hang?) -- need to confirm whether it works\n",
    "# Should I pull out information for each site and convert only that? \n",
    "#Perhaps I can index using lat, lon, and z from the ERSL list?\n",
    "#Currently, substting time works more quickly (~5 minutes)\n",
    "for name, data in sims.items():\n",
    "    ppm = data.sel(time=slice('1970','2014')) * convert\n",
    "    ppm.attrs['units'] = 'ppm'\n",
    "    sims[name] = ppm"
   ]
  },
  {
   "cell_type": "code",
   "execution_count": 13,
   "metadata": {},
   "outputs": [
    {
     "name": "stdout",
     "output_type": "stream",
     "text": [
      "<xarray.DataArray 'CO2' (time: 540, lev: 32, lat: 192, lon: 288)>\n",
      "array([[[[0.000335, ..., 0.000335],\n",
      "         ...,\n",
      "         [0.000335, ..., 0.000335]],\n",
      "\n",
      "        ...,\n",
      "\n",
      "        [[0.000338, ..., 0.000338],\n",
      "         ...,\n",
      "         [0.000346, ..., 0.000346]]],\n",
      "\n",
      "\n",
      "       ...,\n",
      "\n",
      "\n",
      "       [[[0.000407, ..., 0.000407],\n",
      "         ...,\n",
      "         [0.000406, ..., 0.000406]],\n",
      "\n",
      "        ...,\n",
      "\n",
      "        [[0.000413, ..., 0.000413],\n",
      "         ...,\n",
      "         [0.000423, ..., 0.000423]]]], dtype=float32)\n",
      "Coordinates:\n",
      "  * lat      (lat) float64 -90.0 -89.06 -88.12 -87.17 ... 87.17 88.12 89.06 90.0\n",
      "  * lon      (lon) float64 0.0 1.25 2.5 3.75 5.0 ... 355.0 356.2 357.5 358.8\n",
      "  * lev      (lev) float64 3.643 7.595 14.36 24.61 ... 936.2 957.5 976.3 992.6\n",
      "  * time     (time) object 1970-01-16 12:00:00 ... 2014-12-16 12:00:00\n",
      "Attributes:\n",
      "    units:    ppm\n"
     ]
    }
   ],
   "source": [
    "print(sims['CESM2'])"
   ]
  },
  {
   "cell_type": "code",
   "execution_count": null,
   "metadata": {
    "jupyter": {
     "source_hidden": true
    }
   },
   "outputs": [],
   "source": [
    "#print(sims)\n",
    "#lats=np.array([71.3,19.5,82.5,38.8,55.2,19.7])\n",
    "#lons=np.array([360-156.61,360-155.6,360-62.5,360-27.4,360-162.7,360-155.0])\n",
    "#heights=np.array([11.0,3397.0,200.0,19.0,21.3,0.3])\n",
    "CESM2 = sims['CESM2']\n",
    "print(type(CESM2))\n",
    "#print(ESRL[1][2])\n",
    "#can't figure out how to pull the lats out of the ESRL list. \n",
    "#should be the 3rd element in the list, although here it doesn't seem to like the subsetting option. \n",
    "#perhaps just write out a list of all lats and a list of lons. \n",
    "#print(ESRL)\n",
    "#print(ESRL[1][2])\n",
    "#print(CESM2.sel(lat=ESRL[mlo]['lat']))\n",
    "#look up 'zip'\n",
    "#mlCESM2 = CESM2.sel(lat=ESRL[mlo:'lat'])\n",
    "\n",
    "#print(CESM2[lats])\n",
    "\n",
    "#point = CESM2.sel(lat=slice(lats[0]))\n",
    "#numsims = len(ESRL)\n",
    "\n",
    "#What do I iterate over in the for loop???\n",
    "points = {}\n",
    "for x in range(6):\n",
    "#    print(x)\n",
    "    pointloop = CESM2.sel(lat=lats[x], lon=lons[x], lev=[-1], method=\"nearest\")\n",
    "    points[x] = pointloop\n",
    "#    print(pointloop)\n",
    "print(points)\n"
   ]
  },
  {
   "cell_type": "code",
   "execution_count": null,
   "metadata": {
    "jupyter": {
     "source_hidden": true
    }
   },
   "outputs": [],
   "source": [
    "x = 0\n",
    "print(ESRL['names'])\n",
    "#print(x)\n",
    "pointloop = CESM2.sel(lat=lats[x], lon=lons[x], lev=[-1], method=\"nearest\")\n",
    "points[x] = pointloop\n",
    "print(points)"
   ]
  },
  {
   "cell_type": "code",
   "execution_count": null,
   "metadata": {},
   "outputs": [],
   "source": []
  },
  {
   "cell_type": "code",
   "execution_count": null,
   "metadata": {
    "jupyter": {
     "source_hidden": true
    }
   },
   "outputs": [],
   "source": [
    "print(sims)"
   ]
  },
  {
   "cell_type": "code",
   "execution_count": 14,
   "metadata": {},
   "outputs": [
    {
     "ename": "NameError",
     "evalue": "name 'points' is not defined",
     "output_type": "error",
     "traceback": [
      "\u001b[0;31m---------------------------------------------------------------------------\u001b[0m",
      "\u001b[0;31mNameError\u001b[0m                                 Traceback (most recent call last)",
      "\u001b[0;32m<ipython-input-14-7f929071abfb>\u001b[0m in \u001b[0;36m<module>\u001b[0;34m\u001b[0m\n\u001b[1;32m      2\u001b[0m     \u001b[0;32mfor\u001b[0m \u001b[0mx\u001b[0m \u001b[0;32min\u001b[0m \u001b[0mrange\u001b[0m\u001b[0;34m(\u001b[0m\u001b[0;36m6\u001b[0m\u001b[0;34m)\u001b[0m\u001b[0;34m:\u001b[0m\u001b[0;34m\u001b[0m\u001b[0;34m\u001b[0m\u001b[0m\n\u001b[1;32m      3\u001b[0m         \u001b[0mpointloop\u001b[0m \u001b[0;34m=\u001b[0m \u001b[0mdata\u001b[0m\u001b[0;34m.\u001b[0m\u001b[0msel\u001b[0m\u001b[0;34m(\u001b[0m\u001b[0mlat\u001b[0m\u001b[0;34m=\u001b[0m\u001b[0mlats\u001b[0m\u001b[0;34m[\u001b[0m\u001b[0mx\u001b[0m\u001b[0;34m]\u001b[0m\u001b[0;34m,\u001b[0m \u001b[0mlon\u001b[0m\u001b[0;34m=\u001b[0m\u001b[0mlons\u001b[0m\u001b[0;34m[\u001b[0m\u001b[0mx\u001b[0m\u001b[0;34m]\u001b[0m\u001b[0;34m,\u001b[0m \u001b[0mlev\u001b[0m\u001b[0;34m=\u001b[0m\u001b[0;34m[\u001b[0m\u001b[0;34m-\u001b[0m\u001b[0;36m1\u001b[0m\u001b[0;34m]\u001b[0m\u001b[0;34m,\u001b[0m \u001b[0mmethod\u001b[0m\u001b[0;34m=\u001b[0m\u001b[0;34m\"nearest\"\u001b[0m\u001b[0;34m)\u001b[0m\u001b[0;34m\u001b[0m\u001b[0;34m\u001b[0m\u001b[0m\n\u001b[0;32m----> 4\u001b[0;31m         \u001b[0mpoints\u001b[0m\u001b[0;34m[\u001b[0m\u001b[0mx\u001b[0m\u001b[0;34m]\u001b[0m \u001b[0;34m=\u001b[0m \u001b[0mpointloop\u001b[0m\u001b[0;34m\u001b[0m\u001b[0;34m\u001b[0m\u001b[0m\n\u001b[0m\u001b[1;32m      5\u001b[0m \u001b[0;34m\u001b[0m\u001b[0m\n\u001b[1;32m      6\u001b[0m     \u001b[0msims\u001b[0m\u001b[0;34m[\u001b[0m\u001b[0mname\u001b[0m\u001b[0;34m]\u001b[0m\u001b[0;34m=\u001b[0m\u001b[0mpoints\u001b[0m\u001b[0;34m\u001b[0m\u001b[0;34m\u001b[0m\u001b[0m\n",
      "\u001b[0;31mNameError\u001b[0m: name 'points' is not defined"
     ]
    }
   ],
   "source": [
    "for name, data in sims.items():\n",
    "    for x in range(6):\n",
    "        pointloop = data.sel(lat=lats[x], lon=lons[x], lev=[-1], method=\"nearest\")\n",
    "        points[x] = pointloop\n",
    "        #how to save points for outter loop\n",
    "    sims[name]=points"
   ]
  },
  {
   "cell_type": "code",
   "execution_count": null,
   "metadata": {},
   "outputs": [],
   "source": [
    "print(sims)"
   ]
  },
  {
   "cell_type": "code",
   "execution_count": null,
   "metadata": {},
   "outputs": [],
   "source": []
  }
 ],
 "metadata": {
  "kernelspec": {
   "display_name": "Python [conda env:miniconda-analysis]",
   "language": "python",
   "name": "conda-env-miniconda-analysis-py"
  },
  "language_info": {
   "codemirror_mode": {
    "name": "ipython",
    "version": 3
   },
   "file_extension": ".py",
   "mimetype": "text/x-python",
   "name": "python",
   "nbconvert_exporter": "python",
   "pygments_lexer": "ipython3",
   "version": "3.7.3"
  }
 },
 "nbformat": 4,
 "nbformat_minor": 4
}
